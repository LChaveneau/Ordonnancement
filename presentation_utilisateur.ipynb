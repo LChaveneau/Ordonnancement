{
 "cells": [
  {
   "cell_type": "markdown",
   "id": "liberal-rogers",
   "metadata": {},
   "source": [
    "# Presentation de la librairie ordonnancement : utilisateur."
   ]
  },
  {
   "cell_type": "code",
   "execution_count": 1,
   "id": "united-instruction",
   "metadata": {},
   "outputs": [],
   "source": [
    "from ordonnancement import *\n",
    "from pendulum import duration, datetime\n",
    "from rich import print, table"
   ]
  },
  {
   "cell_type": "code",
   "execution_count": 2,
   "id": "offshore-progressive",
   "metadata": {},
   "outputs": [],
   "source": [
    "%matplotlib inline\n",
    "import matplotlib.pyplot as plt\n",
    "plt.rcParams[\"figure.figsize\"] = (15, 5)"
   ]
  },
  {
   "cell_type": "markdown",
   "id": "hired-upper",
   "metadata": {},
   "source": [
    "## Module `probleme`"
   ]
  },
  {
   "cell_type": "markdown",
   "id": "dominican-pharmacology",
   "metadata": {},
   "source": [
    "Ce module est principalement dédié a la représentation d'un problème d'ordonnancement à prérequis composé.\n",
    "\n",
    "Il est composé de 4 classes."
   ]
  },
  {
   "cell_type": "markdown",
   "id": "spoken-joint",
   "metadata": {},
   "source": [
    "### Classe Duree"
   ]
  },
  {
   "cell_type": "markdown",
   "id": "accessible-dining",
   "metadata": {},
   "source": [
    "Comme son nom l'indique, cette classe représente une durée. La durée peut-être comprise de :\n",
    "- D'aucune durée \n",
    "- de secondes\n",
    "- de minutes\n",
    "- d'heures\n",
    "- de jours\n",
    "- de semaines\n",
    "- de mois\n",
    "- d'années\n",
    "\n",
    "Voici quelques exemples:"
   ]
  },
  {
   "cell_type": "code",
   "execution_count": 3,
   "id": "altered-title",
   "metadata": {},
   "outputs": [
    {
     "data": {
      "text/plain": [
       "Duree(secondes=23)"
      ]
     },
     "execution_count": 3,
     "metadata": {},
     "output_type": "execute_result"
    }
   ],
   "source": [
    "Duree(secondes=23)"
   ]
  },
  {
   "cell_type": "code",
   "execution_count": 4,
   "id": "competent-oakland",
   "metadata": {},
   "outputs": [
    {
     "data": {
      "text/plain": [
       "Duree(annees=22, minutes=56)"
      ]
     },
     "execution_count": 4,
     "metadata": {},
     "output_type": "execute_result"
    }
   ],
   "source": [
    "Duree(annees =22, minutes=56)"
   ]
  },
  {
   "cell_type": "markdown",
   "id": "diagnostic-angle",
   "metadata": {},
   "source": [
    "Nous pouvons aussi indiquer aucune durée :"
   ]
  },
  {
   "cell_type": "code",
   "execution_count": 5,
   "id": "laughing-necklace",
   "metadata": {},
   "outputs": [
    {
     "data": {
      "text/plain": [
       "Duree(Aucune durée)"
      ]
     },
     "execution_count": 5,
     "metadata": {},
     "output_type": "execute_result"
    }
   ],
   "source": [
    "Duree()"
   ]
  },
  {
   "cell_type": "markdown",
   "id": "desirable-sweet",
   "metadata": {},
   "source": [
    "Nous avons un constructeur alternatif pour créer un objet Duree.\n",
    "\n",
    "Voici quelques exemples:"
   ]
  },
  {
   "cell_type": "code",
   "execution_count": 6,
   "id": "cheap-greensboro",
   "metadata": {},
   "outputs": [
    {
     "data": {
      "text/plain": [
       "Duree(heures=67, minutes=13, secondes=45)"
      ]
     },
     "execution_count": 6,
     "metadata": {},
     "output_type": "execute_result"
    }
   ],
   "source": [
    "Duree.par_str(\"13 minutes + 67 heures + 45 secondes\")"
   ]
  },
  {
   "cell_type": "code",
   "execution_count": 7,
   "id": "athletic-polymer",
   "metadata": {},
   "outputs": [
    {
     "data": {
      "text/plain": [
       "Duree(secondes=2)"
      ]
     },
     "execution_count": 7,
     "metadata": {},
     "output_type": "execute_result"
    }
   ],
   "source": [
    "Duree.par_str('2 secondes')"
   ]
  },
  {
   "cell_type": "markdown",
   "id": "lonely-scoop",
   "metadata": {},
   "source": [
    "Cette classe est supervisée par l'objet **Duration** de **Pendulum**. Nous pouvons donc convertir un objet **Duree** en objet **Duration** et inversement."
   ]
  },
  {
   "cell_type": "code",
   "execution_count": 8,
   "id": "innocent-loading",
   "metadata": {},
   "outputs": [],
   "source": [
    "duree_test=Duree.par_str('2 secondes')"
   ]
  },
  {
   "cell_type": "code",
   "execution_count": 9,
   "id": "associate-missouri",
   "metadata": {},
   "outputs": [
    {
     "data": {
      "text/plain": [
       "Duration(seconds=2)"
      ]
     },
     "execution_count": 9,
     "metadata": {},
     "output_type": "execute_result"
    }
   ],
   "source": [
    "duree_test._convertit_duration()"
   ]
  },
  {
   "cell_type": "code",
   "execution_count": 10,
   "id": "spread-panic",
   "metadata": {},
   "outputs": [
    {
     "data": {
      "text/plain": [
       "Duree(secondes=34)"
      ]
     },
     "execution_count": 10,
     "metadata": {},
     "output_type": "execute_result"
    }
   ],
   "source": [
    "Duree._convertit_duree(duration(seconds=34))"
   ]
  },
  {
   "cell_type": "markdown",
   "id": "stopped-olive",
   "metadata": {},
   "source": [
    "**Attention** La convertion d'un objet **Duration** à un objet **Duree** n'est pas optimal. Cette fonction transmet que la durée en terme de jours. Elle renvoie aussi 'le reste'. C'est à dire les secondes, minutes et heures. "
   ]
  },
  {
   "cell_type": "code",
   "execution_count": 11,
   "id": "treated-panel",
   "metadata": {},
   "outputs": [
    {
     "data": {
      "text/plain": [
       "Duree(jours=1095, secondes=23)"
      ]
     },
     "execution_count": 11,
     "metadata": {},
     "output_type": "execute_result"
    }
   ],
   "source": [
    "Duree._convertit_duree(duration(years=3, seconds=23))"
   ]
  },
  {
   "cell_type": "markdown",
   "id": "framed-channels",
   "metadata": {},
   "source": [
    "Nous pouvons effectuer des opérations entre durées grâce à 3 méthodes :"
   ]
  },
  {
   "cell_type": "code",
   "execution_count": 12,
   "id": "analyzed-wells",
   "metadata": {},
   "outputs": [
    {
     "data": {
      "text/plain": [
       "Duree(secondes=50)"
      ]
     },
     "execution_count": 12,
     "metadata": {},
     "output_type": "execute_result"
    }
   ],
   "source": [
    "Duree(secondes=3)+ Duree(secondes=47)"
   ]
  },
  {
   "cell_type": "code",
   "execution_count": 13,
   "id": "editorial-mountain",
   "metadata": {},
   "outputs": [
    {
     "data": {
      "text/plain": [
       "Duree(secondes=50)"
      ]
     },
     "execution_count": 13,
     "metadata": {},
     "output_type": "execute_result"
    }
   ],
   "source": [
    "Duree(secondes=3).add(Duree(secondes=47))"
   ]
  },
  {
   "cell_type": "code",
   "execution_count": 14,
   "id": "mobile-enhancement",
   "metadata": {},
   "outputs": [
    {
     "data": {
      "text/plain": [
       "Duree(secondes=44)"
      ]
     },
     "execution_count": 14,
     "metadata": {},
     "output_type": "execute_result"
    }
   ],
   "source": [
    "Duree(secondes=47)-Duree(secondes=3)"
   ]
  },
  {
   "cell_type": "markdown",
   "id": "involved-sullivan",
   "metadata": {},
   "source": [
    "La méthode `.add` est identique à l'addition."
   ]
  },
  {
   "cell_type": "markdown",
   "id": "enhanced-bacteria",
   "metadata": {},
   "source": [
    "Nous avons aussi des tests logiques entre **Duree**."
   ]
  },
  {
   "cell_type": "code",
   "execution_count": 15,
   "id": "premier-charles",
   "metadata": {},
   "outputs": [
    {
     "data": {
      "text/plain": [
       "True"
      ]
     },
     "execution_count": 15,
     "metadata": {},
     "output_type": "execute_result"
    }
   ],
   "source": [
    "Duree(secondes=120)==Duree(minutes=2)"
   ]
  },
  {
   "cell_type": "code",
   "execution_count": 16,
   "id": "accurate-large",
   "metadata": {},
   "outputs": [
    {
     "data": {
      "text/plain": [
       "True"
      ]
     },
     "execution_count": 16,
     "metadata": {},
     "output_type": "execute_result"
    }
   ],
   "source": [
    "Duree(secondes=34)>=Duree(secondes=1)"
   ]
  },
  {
   "cell_type": "code",
   "execution_count": 17,
   "id": "comparative-feelings",
   "metadata": {},
   "outputs": [
    {
     "data": {
      "text/plain": [
       "False"
      ]
     },
     "execution_count": 17,
     "metadata": {},
     "output_type": "execute_result"
    }
   ],
   "source": [
    "Duree(secondes=34)<=Duree(secondes=1)"
   ]
  },
  {
   "cell_type": "markdown",
   "id": "velvet-gospel",
   "metadata": {},
   "source": [
    "La classe durée gére certaines erreurs :\n",
    "- Si les durées ne sont pas négatives."
   ]
  },
  {
   "cell_type": "markdown",
   "id": "legal-undergraduate",
   "metadata": {},
   "source": [
    "### Classe Prerequis \n",
    "\n",
    "Elle représente un prérequis. Un prérequis est composé de :\n",
    "\n",
    "- d'un nom de tâche\n",
    "- d'un type : 'fin' ou 'debut'\n",
    "- d'une latence exprimée par l'objet **Duree**\n",
    "\n",
    "Voici quelques exemples :"
   ]
  },
  {
   "cell_type": "code",
   "execution_count": 18,
   "id": "personalized-cosmetic",
   "metadata": {},
   "outputs": [
    {
     "data": {
      "text/plain": [
       "Prerequis(nom='A', typ='debut', latence=Duree(secondes=34))"
      ]
     },
     "execution_count": 18,
     "metadata": {},
     "output_type": "execute_result"
    }
   ],
   "source": [
    "Prerequis(nom=\"A\", typ=\"debut\", latence=Duree(secondes=34))"
   ]
  },
  {
   "cell_type": "markdown",
   "id": "arabic-newsletter",
   "metadata": {},
   "source": [
    "Ici une certaine tâche doit attendre que la tâche A débute + 34 secondes"
   ]
  },
  {
   "cell_type": "code",
   "execution_count": 19,
   "id": "purple-bradley",
   "metadata": {},
   "outputs": [
    {
     "data": {
      "text/plain": [
       "Prerequis(nom='G', typ='fin', latence=Duree(annees=1))"
      ]
     },
     "execution_count": 19,
     "metadata": {},
     "output_type": "execute_result"
    }
   ],
   "source": [
    "Prerequis(nom=\"G\", typ=\"fin\", latence=Duree(annees=1))"
   ]
  },
  {
   "cell_type": "markdown",
   "id": "stopped-commerce",
   "metadata": {},
   "source": [
    "Ici une certaine tâche doit attendre que la tâche G finisse + 1 annees"
   ]
  },
  {
   "cell_type": "markdown",
   "id": "retained-grave",
   "metadata": {},
   "source": [
    "Nous pouvons bien-sûr ne pas avoir de latence"
   ]
  },
  {
   "cell_type": "code",
   "execution_count": 20,
   "id": "chinese-exclusive",
   "metadata": {},
   "outputs": [
    {
     "data": {
      "text/plain": [
       "Prerequis(nom='G', typ='fin', latence=Duree(Aucune durée))"
      ]
     },
     "execution_count": 20,
     "metadata": {},
     "output_type": "execute_result"
    }
   ],
   "source": [
    "Prerequis(nom=\"G\", typ=\"fin\", latence=Duree())"
   ]
  },
  {
   "cell_type": "markdown",
   "id": "mounted-slave",
   "metadata": {},
   "source": [
    "\n",
    "Nous avons aussi un constructeur alternatif pour cette classe."
   ]
  },
  {
   "cell_type": "code",
   "execution_count": 21,
   "id": "shaped-genius",
   "metadata": {},
   "outputs": [
    {
     "data": {
      "text/plain": [
       "Prerequis(nom='G', typ='fin', latence=Duree(annees=2, jours=8))"
      ]
     },
     "execution_count": 21,
     "metadata": {},
     "output_type": "execute_result"
    }
   ],
   "source": [
    "Prerequis.par_str(\"G fin (2 annees + 8 jours)\")"
   ]
  },
  {
   "cell_type": "markdown",
   "id": "brief-stomach",
   "metadata": {},
   "source": [
    "### Classe Tache"
   ]
  },
  {
   "cell_type": "markdown",
   "id": "shaped-myanmar",
   "metadata": {},
   "source": [
    "Un objet **Tache** est composée de \n",
    "- un nom de tâche. Il faut mettre un nom sans espace.\n",
    "- d'une durée non nul. Un objet **Duree**.\n",
    "- d'une liste de prérequis. Plusieurs, une ou aucun objets **Prerequis**. \n",
    "- D'une correspondance : une nature associée à la tâche. Si vous ne renseignez rien, elle sera remplacé par un espace.\n",
    "\n",
    "Voici quelques exemples."
   ]
  },
  {
   "cell_type": "code",
   "execution_count": 22,
   "id": "coated-swimming",
   "metadata": {},
   "outputs": [
    {
     "data": {
      "text/html": [
       "<pre style=\"white-space:pre;overflow-x:auto;line-height:normal;font-family:Menlo,'DejaVu Sans Mono',consolas,'Courier New',monospace\">Tache<span style=\"font-weight: bold\">(</span><span style=\"color: #808000\">nom</span>=<span style=\"color: #008000\">'A'</span>, <span style=\"color: #808000\">duree</span>=<span style=\"color: #800080\">Duree</span><span style=\"font-weight: bold\">(</span><span style=\"color: #808000\">semaines</span>=<span style=\"color: #000080; font-weight: bold\">1</span><span style=\"font-weight: bold\">)</span>, <span style=\"color: #808000\">prerequis</span>=<span style=\"font-weight: bold\">[]</span>, <span style=\"color: #808000\">correspondance</span>=<span style=\"color: #008000\">'Créer la librairie'</span><span style=\"font-weight: bold\">)</span>\n",
       "</pre>\n"
      ],
      "text/plain": [
       "<rich.jupyter.JupyterRenderable at 0x1da23948e50>"
      ]
     },
     "metadata": {},
     "output_type": "display_data"
    }
   ],
   "source": [
    "a=Tache(\n",
    "    nom=\"A\", \n",
    "    duree=Duree(semaines=1), \n",
    "    prerequis=[], \n",
    "    correspondance=\"Créer la librairie\"\n",
    "       )\n",
    "print(a)"
   ]
  },
  {
   "cell_type": "code",
   "execution_count": 23,
   "id": "prescription-import",
   "metadata": {},
   "outputs": [
    {
     "data": {
      "text/html": [
       "<pre style=\"white-space:pre;overflow-x:auto;line-height:normal;font-family:Menlo,'DejaVu Sans Mono',consolas,'Courier New',monospace\">Tache<span style=\"font-weight: bold\">(</span><span style=\"color: #808000\">nom</span>=<span style=\"color: #008000\">'B'</span>, <span style=\"color: #808000\">duree</span>=<span style=\"color: #800080\">Duree</span><span style=\"font-weight: bold\">(</span><span style=\"color: #808000\">heures</span>=<span style=\"color: #000080; font-weight: bold\">1</span><span style=\"font-weight: bold\">)</span>, <span style=\"color: #808000\">prerequis</span>=<span style=\"font-weight: bold\">[</span>Prerequis<span style=\"font-weight: bold\">(</span><span style=\"color: #808000\">nom</span>=<span style=\"color: #008000\">'A'</span>, <span style=\"color: #808000\">typ</span>=<span style=\"color: #008000\">'fin'</span>, \n",
       "<span style=\"color: #808000\">latence</span>=<span style=\"color: #800080\">Duree</span><span style=\"font-weight: bold\">(</span>Aucune durée<span style=\"font-weight: bold\">))]</span>, <span style=\"color: #808000\">correspondance</span>=<span style=\"color: #008000\">'Expliquer aux utilisateurs'</span><span style=\"font-weight: bold\">)</span>\n",
       "</pre>\n"
      ],
      "text/plain": [
       "<rich.jupyter.JupyterRenderable at 0x1da23a5f9d0>"
      ]
     },
     "metadata": {},
     "output_type": "display_data"
    }
   ],
   "source": [
    "b=Tache(\n",
    "    nom=\"B\", \n",
    "    duree=Duree(heures=1), \n",
    "    prerequis=[\n",
    "        Prerequis(nom=\"A\", typ=\"fin\", latence=Duree())\n",
    "    ], \n",
    "    correspondance=\"Expliquer aux utilisateurs\"\n",
    ")\n",
    "print(b)"
   ]
  },
  {
   "cell_type": "code",
   "execution_count": 24,
   "id": "stylish-private",
   "metadata": {},
   "outputs": [
    {
     "data": {
      "text/html": [
       "<pre style=\"white-space:pre;overflow-x:auto;line-height:normal;font-family:Menlo,'DejaVu Sans Mono',consolas,'Courier New',monospace\">Tache<span style=\"font-weight: bold\">(</span><span style=\"color: #808000\">nom</span>=<span style=\"color: #008000\">'C'</span>, <span style=\"color: #808000\">duree</span>=<span style=\"color: #800080\">Duree</span><span style=\"font-weight: bold\">(</span><span style=\"color: #808000\">secondes</span>=<span style=\"color: #000080; font-weight: bold\">34</span><span style=\"font-weight: bold\">)</span>, <span style=\"color: #808000\">prerequis</span>=<span style=\"font-weight: bold\">[</span>Prerequis<span style=\"font-weight: bold\">(</span><span style=\"color: #808000\">nom</span>=<span style=\"color: #008000\">'A'</span>, <span style=\"color: #808000\">typ</span>=<span style=\"color: #008000\">'fin'</span>, \n",
       "<span style=\"color: #808000\">latence</span>=<span style=\"color: #800080\">Duree</span><span style=\"font-weight: bold\">(</span><span style=\"color: #808000\">jours</span>=<span style=\"color: #000080; font-weight: bold\">3</span><span style=\"font-weight: bold\">))</span>, Prerequis<span style=\"font-weight: bold\">(</span><span style=\"color: #808000\">nom</span>=<span style=\"color: #008000\">'B'</span>, <span style=\"color: #808000\">typ</span>=<span style=\"color: #008000\">'debut'</span>, <span style=\"color: #808000\">latence</span>=<span style=\"color: #800080\">Duree</span><span style=\"font-weight: bold\">(</span><span style=\"color: #808000\">heures</span>=<span style=\"color: #000080; font-weight: bold\">2</span>, \n",
       "<span style=\"color: #808000\">minutes</span>=<span style=\"color: #000080; font-weight: bold\">56</span><span style=\"font-weight: bold\">))]</span>, <span style=\"color: #808000\">correspondance</span>=<span style=\"color: #008000\">'Mettre en ligne la librairie'</span><span style=\"font-weight: bold\">)</span>\n",
       "</pre>\n"
      ],
      "text/plain": [
       "<rich.jupyter.JupyterRenderable at 0x1da2394ff40>"
      ]
     },
     "metadata": {},
     "output_type": "display_data"
    }
   ],
   "source": [
    "c=Tache(\n",
    "    nom=\"C\", \n",
    "    duree=Duree(secondes=34), \n",
    "    prerequis=[\n",
    "        Prerequis(nom=\"A\", typ=\"fin\", latence=Duree(jours=3)),\n",
    "        Prerequis(nom=\"B\", typ=\"debut\", latence=Duree(heures=2, minutes=56))\n",
    "    ], \n",
    "    correspondance=\"Mettre en ligne la librairie\"\n",
    ")\n",
    "print(c)"
   ]
  },
  {
   "cell_type": "markdown",
   "id": "sonic-elder",
   "metadata": {},
   "source": [
    "Cette classe gére ces erreurs :\n",
    "\n",
    "- Des prérequis identiques au niveau de leur nom.\n",
    "- Avoir une durée de tâche nulle."
   ]
  },
  {
   "cell_type": "markdown",
   "id": "polish-advocate",
   "metadata": {},
   "source": [
    "### Classe Probleme"
   ]
  },
  {
   "cell_type": "markdown",
   "id": "unlike-webcam",
   "metadata": {},
   "source": [
    "Cette classe représente l'entièreté du problème d'ordonnancement.\n",
    "\n",
    "Elle est composée d'une liste d'objet **Tache**."
   ]
  },
  {
   "cell_type": "code",
   "execution_count": 25,
   "id": "adverse-membership",
   "metadata": {},
   "outputs": [
    {
     "data": {
      "text/html": [
       "<pre style=\"white-space:pre;overflow-x:auto;line-height:normal;font-family:Menlo,'DejaVu Sans Mono',consolas,'Courier New',monospace\">Tache<span style=\"font-weight: bold\">(</span><span style=\"color: #808000\">nom</span>=<span style=\"color: #008000\">'A'</span>, <span style=\"color: #808000\">duree</span>=<span style=\"color: #800080\">Duree</span><span style=\"font-weight: bold\">(</span><span style=\"color: #808000\">semaines</span>=<span style=\"color: #000080; font-weight: bold\">1</span><span style=\"font-weight: bold\">)</span>, <span style=\"color: #808000\">prerequis</span>=<span style=\"font-weight: bold\">[]</span>, <span style=\"color: #808000\">correspondance</span>=<span style=\"color: #008000\">'Créer la librairie'</span><span style=\"font-weight: bold\">)</span>\n",
       "Tache<span style=\"font-weight: bold\">(</span><span style=\"color: #808000\">nom</span>=<span style=\"color: #008000\">'B'</span>, <span style=\"color: #808000\">duree</span>=<span style=\"color: #800080\">Duree</span><span style=\"font-weight: bold\">(</span><span style=\"color: #808000\">heures</span>=<span style=\"color: #000080; font-weight: bold\">1</span><span style=\"font-weight: bold\">)</span>, <span style=\"color: #808000\">prerequis</span>=<span style=\"font-weight: bold\">[</span>Prerequis<span style=\"font-weight: bold\">(</span><span style=\"color: #808000\">nom</span>=<span style=\"color: #008000\">'A'</span>, <span style=\"color: #808000\">typ</span>=<span style=\"color: #008000\">'fin'</span>, \n",
       "<span style=\"color: #808000\">latence</span>=<span style=\"color: #800080\">Duree</span><span style=\"font-weight: bold\">(</span>Aucune durée<span style=\"font-weight: bold\">))]</span>, <span style=\"color: #808000\">correspondance</span>=<span style=\"color: #008000\">'Expliquer aux utilisateurs'</span><span style=\"font-weight: bold\">)</span>\n",
       "Tache<span style=\"font-weight: bold\">(</span><span style=\"color: #808000\">nom</span>=<span style=\"color: #008000\">'C'</span>, <span style=\"color: #808000\">duree</span>=<span style=\"color: #800080\">Duree</span><span style=\"font-weight: bold\">(</span><span style=\"color: #808000\">secondes</span>=<span style=\"color: #000080; font-weight: bold\">34</span><span style=\"font-weight: bold\">)</span>, <span style=\"color: #808000\">prerequis</span>=<span style=\"font-weight: bold\">[</span>Prerequis<span style=\"font-weight: bold\">(</span><span style=\"color: #808000\">nom</span>=<span style=\"color: #008000\">'A'</span>, <span style=\"color: #808000\">typ</span>=<span style=\"color: #008000\">'fin'</span>, \n",
       "<span style=\"color: #808000\">latence</span>=<span style=\"color: #800080\">Duree</span><span style=\"font-weight: bold\">(</span><span style=\"color: #808000\">jours</span>=<span style=\"color: #000080; font-weight: bold\">3</span><span style=\"font-weight: bold\">))</span>, Prerequis<span style=\"font-weight: bold\">(</span><span style=\"color: #808000\">nom</span>=<span style=\"color: #008000\">'B'</span>, <span style=\"color: #808000\">typ</span>=<span style=\"color: #008000\">'debut'</span>, <span style=\"color: #808000\">latence</span>=<span style=\"color: #800080\">Duree</span><span style=\"font-weight: bold\">(</span><span style=\"color: #808000\">heures</span>=<span style=\"color: #000080; font-weight: bold\">2</span>, \n",
       "<span style=\"color: #808000\">minutes</span>=<span style=\"color: #000080; font-weight: bold\">56</span><span style=\"font-weight: bold\">))]</span>, <span style=\"color: #808000\">correspondance</span>=<span style=\"color: #008000\">'Mettre en ligne la librairie'</span><span style=\"font-weight: bold\">)</span>\n",
       "</pre>\n"
      ],
      "text/plain": [
       "<rich.jupyter.JupyterRenderable at 0x1da23a51be0>"
      ]
     },
     "metadata": {},
     "output_type": "display_data"
    }
   ],
   "source": [
    "mon_probleme=Probleme(taches=[a,b,c])\n",
    "print(mon_probleme)"
   ]
  },
  {
   "cell_type": "markdown",
   "id": "changed-homework",
   "metadata": {},
   "source": [
    "Nous pouvons récupérer une tâche par son nom, grâce au collecteur [ ]."
   ]
  },
  {
   "cell_type": "code",
   "execution_count": 26,
   "id": "adjustable-brief",
   "metadata": {},
   "outputs": [
    {
     "data": {
      "text/plain": [
       "Tache(nom='A', duree=Duree(semaines=1), prerequis=[], correspondance='Créer la librairie')"
      ]
     },
     "execution_count": 26,
     "metadata": {},
     "output_type": "execute_result"
    }
   ],
   "source": [
    "mon_probleme[\"A\"]"
   ]
  },
  {
   "cell_type": "markdown",
   "id": "positive-exchange",
   "metadata": {},
   "source": [
    "Nous pouvons itérer sur les noms de tâches, les tâches et sur les correspondances"
   ]
  },
  {
   "cell_type": "code",
   "execution_count": 27,
   "id": "norman-companion",
   "metadata": {},
   "outputs": [
    {
     "data": {
      "text/html": [
       "<pre style=\"white-space:pre;overflow-x:auto;line-height:normal;font-family:Menlo,'DejaVu Sans Mono',consolas,'Courier New',monospace\">A\n",
       "</pre>\n"
      ],
      "text/plain": [
       "<rich.jupyter.JupyterRenderable at 0x1da23a5f4c0>"
      ]
     },
     "metadata": {},
     "output_type": "display_data"
    },
    {
     "data": {
      "text/html": [
       "<pre style=\"white-space:pre;overflow-x:auto;line-height:normal;font-family:Menlo,'DejaVu Sans Mono',consolas,'Courier New',monospace\">B\n",
       "</pre>\n"
      ],
      "text/plain": [
       "<rich.jupyter.JupyterRenderable at 0x1da23a514f0>"
      ]
     },
     "metadata": {},
     "output_type": "display_data"
    },
    {
     "data": {
      "text/html": [
       "<pre style=\"white-space:pre;overflow-x:auto;line-height:normal;font-family:Menlo,'DejaVu Sans Mono',consolas,'Courier New',monospace\">C\n",
       "</pre>\n"
      ],
      "text/plain": [
       "<rich.jupyter.JupyterRenderable at 0x1da23a51eb0>"
      ]
     },
     "metadata": {},
     "output_type": "display_data"
    }
   ],
   "source": [
    "for nom in mon_probleme.noms:\n",
    "    print(nom)"
   ]
  },
  {
   "cell_type": "code",
   "execution_count": 28,
   "id": "sitting-figure",
   "metadata": {},
   "outputs": [
    {
     "data": {
      "text/html": [
       "<pre style=\"white-space:pre;overflow-x:auto;line-height:normal;font-family:Menlo,'DejaVu Sans Mono',consolas,'Courier New',monospace\">Tache<span style=\"font-weight: bold\">(</span><span style=\"color: #808000\">nom</span>=<span style=\"color: #008000\">'A'</span>, <span style=\"color: #808000\">duree</span>=<span style=\"color: #800080\">Duree</span><span style=\"font-weight: bold\">(</span><span style=\"color: #808000\">semaines</span>=<span style=\"color: #000080; font-weight: bold\">1</span><span style=\"font-weight: bold\">)</span>, <span style=\"color: #808000\">prerequis</span>=<span style=\"font-weight: bold\">[]</span>, <span style=\"color: #808000\">correspondance</span>=<span style=\"color: #008000\">'Créer la librairie'</span><span style=\"font-weight: bold\">)</span>\n",
       "</pre>\n"
      ],
      "text/plain": [
       "<rich.jupyter.JupyterRenderable at 0x1da23a5f2e0>"
      ]
     },
     "metadata": {},
     "output_type": "display_data"
    },
    {
     "data": {
      "text/html": [
       "<pre style=\"white-space:pre;overflow-x:auto;line-height:normal;font-family:Menlo,'DejaVu Sans Mono',consolas,'Courier New',monospace\">Tache<span style=\"font-weight: bold\">(</span><span style=\"color: #808000\">nom</span>=<span style=\"color: #008000\">'B'</span>, <span style=\"color: #808000\">duree</span>=<span style=\"color: #800080\">Duree</span><span style=\"font-weight: bold\">(</span><span style=\"color: #808000\">heures</span>=<span style=\"color: #000080; font-weight: bold\">1</span><span style=\"font-weight: bold\">)</span>, <span style=\"color: #808000\">prerequis</span>=<span style=\"font-weight: bold\">[</span>Prerequis<span style=\"font-weight: bold\">(</span><span style=\"color: #808000\">nom</span>=<span style=\"color: #008000\">'A'</span>, <span style=\"color: #808000\">typ</span>=<span style=\"color: #008000\">'fin'</span>, \n",
       "<span style=\"color: #808000\">latence</span>=<span style=\"color: #800080\">Duree</span><span style=\"font-weight: bold\">(</span>Aucune durée<span style=\"font-weight: bold\">))]</span>, <span style=\"color: #808000\">correspondance</span>=<span style=\"color: #008000\">'Expliquer aux utilisateurs'</span><span style=\"font-weight: bold\">)</span>\n",
       "</pre>\n"
      ],
      "text/plain": [
       "<rich.jupyter.JupyterRenderable at 0x1da23a513a0>"
      ]
     },
     "metadata": {},
     "output_type": "display_data"
    },
    {
     "data": {
      "text/html": [
       "<pre style=\"white-space:pre;overflow-x:auto;line-height:normal;font-family:Menlo,'DejaVu Sans Mono',consolas,'Courier New',monospace\">Tache<span style=\"font-weight: bold\">(</span><span style=\"color: #808000\">nom</span>=<span style=\"color: #008000\">'C'</span>, <span style=\"color: #808000\">duree</span>=<span style=\"color: #800080\">Duree</span><span style=\"font-weight: bold\">(</span><span style=\"color: #808000\">secondes</span>=<span style=\"color: #000080; font-weight: bold\">34</span><span style=\"font-weight: bold\">)</span>, <span style=\"color: #808000\">prerequis</span>=<span style=\"font-weight: bold\">[</span>Prerequis<span style=\"font-weight: bold\">(</span><span style=\"color: #808000\">nom</span>=<span style=\"color: #008000\">'A'</span>, <span style=\"color: #808000\">typ</span>=<span style=\"color: #008000\">'fin'</span>, \n",
       "<span style=\"color: #808000\">latence</span>=<span style=\"color: #800080\">Duree</span><span style=\"font-weight: bold\">(</span><span style=\"color: #808000\">jours</span>=<span style=\"color: #000080; font-weight: bold\">3</span><span style=\"font-weight: bold\">))</span>, Prerequis<span style=\"font-weight: bold\">(</span><span style=\"color: #808000\">nom</span>=<span style=\"color: #008000\">'B'</span>, <span style=\"color: #808000\">typ</span>=<span style=\"color: #008000\">'debut'</span>, <span style=\"color: #808000\">latence</span>=<span style=\"color: #800080\">Duree</span><span style=\"font-weight: bold\">(</span><span style=\"color: #808000\">heures</span>=<span style=\"color: #000080; font-weight: bold\">2</span>, \n",
       "<span style=\"color: #808000\">minutes</span>=<span style=\"color: #000080; font-weight: bold\">56</span><span style=\"font-weight: bold\">))]</span>, <span style=\"color: #808000\">correspondance</span>=<span style=\"color: #008000\">'Mettre en ligne la librairie'</span><span style=\"font-weight: bold\">)</span>\n",
       "</pre>\n"
      ],
      "text/plain": [
       "<rich.jupyter.JupyterRenderable at 0x1da23a51460>"
      ]
     },
     "metadata": {},
     "output_type": "display_data"
    }
   ],
   "source": [
    "for tache in mon_probleme.taches:\n",
    "    print(tache)"
   ]
  },
  {
   "cell_type": "code",
   "execution_count": 29,
   "id": "iraqi-proceeding",
   "metadata": {},
   "outputs": [
    {
     "data": {
      "text/html": [
       "<pre style=\"white-space:pre;overflow-x:auto;line-height:normal;font-family:Menlo,'DejaVu Sans Mono',consolas,'Courier New',monospace\">Créer la librairie\n",
       "</pre>\n"
      ],
      "text/plain": [
       "<rich.jupyter.JupyterRenderable at 0x1da20bb64c0>"
      ]
     },
     "metadata": {},
     "output_type": "display_data"
    },
    {
     "data": {
      "text/html": [
       "<pre style=\"white-space:pre;overflow-x:auto;line-height:normal;font-family:Menlo,'DejaVu Sans Mono',consolas,'Courier New',monospace\">Expliquer aux utilisateurs\n",
       "</pre>\n"
      ],
      "text/plain": [
       "<rich.jupyter.JupyterRenderable at 0x1da1f8a9100>"
      ]
     },
     "metadata": {},
     "output_type": "display_data"
    },
    {
     "data": {
      "text/html": [
       "<pre style=\"white-space:pre;overflow-x:auto;line-height:normal;font-family:Menlo,'DejaVu Sans Mono',consolas,'Courier New',monospace\">Mettre en ligne la librairie\n",
       "</pre>\n"
      ],
      "text/plain": [
       "<rich.jupyter.JupyterRenderable at 0x1da20bb6490>"
      ]
     },
     "metadata": {},
     "output_type": "display_data"
    }
   ],
   "source": [
    "for corr in mon_probleme.correspondances:\n",
    "    print(corr)"
   ]
  },
  {
   "cell_type": "markdown",
   "id": "rational-kitchen",
   "metadata": {},
   "source": [
    "Le test logique d'égalité ne teste pas l'identité de python."
   ]
  },
  {
   "cell_type": "code",
   "execution_count": 30,
   "id": "sunset-ranch",
   "metadata": {},
   "outputs": [
    {
     "data": {
      "text/plain": [
       "False"
      ]
     },
     "execution_count": 30,
     "metadata": {},
     "output_type": "execute_result"
    }
   ],
   "source": [
    "probleme_bis=Probleme(taches=[a,b])\n",
    "probleme_bis==mon_probleme"
   ]
  },
  {
   "cell_type": "code",
   "execution_count": 31,
   "id": "finite-honey",
   "metadata": {},
   "outputs": [
    {
     "data": {
      "text/plain": [
       "True"
      ]
     },
     "execution_count": 31,
     "metadata": {},
     "output_type": "execute_result"
    }
   ],
   "source": [
    "probleme_bis=Probleme(taches=[a,c,b])\n",
    "probleme_bis==mon_probleme"
   ]
  },
  {
   "cell_type": "markdown",
   "id": "temporal-throat",
   "metadata": {},
   "source": [
    "Nous avons aussi un constructeur alternatif pour la classe **Probleme** qui doit être construit comme cela :\n",
    "\n",
    "\"**nom tache / duree de tache / prerequis | prerequis | ... / correspondance**\"\n",
    "\n",
    "Les prerequis sont optionnels et la construction des prerequis est la même que le constructeur alternatif pour l'objet **Prerequis**"
   ]
  },
  {
   "cell_type": "code",
   "execution_count": 32,
   "id": "featured-experiment",
   "metadata": {},
   "outputs": [],
   "source": [
    "mon_probleme_bis=Probleme.par_str(\"\"\"\n",
    "A / 1 semaine / /Créer la librairie\n",
    "B / 1 heure / A fin /Expliquer aux utilisateurs\n",
    "C / 34 secondes / A fin (3 jours) | B debut (2 heures + 56 minutes) / Mettre en ligne la librairie\"\"\")"
   ]
  },
  {
   "cell_type": "code",
   "execution_count": 33,
   "id": "afraid-frontier",
   "metadata": {},
   "outputs": [
    {
     "data": {
      "text/plain": [
       "True"
      ]
     },
     "execution_count": 33,
     "metadata": {},
     "output_type": "execute_result"
    }
   ],
   "source": [
    "mon_probleme==mon_probleme_bis"
   ]
  },
  {
   "cell_type": "markdown",
   "id": "impaired-tradition",
   "metadata": {},
   "source": [
    "Nous avons conscience que l'affichage d'un problème n'est pas sympathique. Nous pouvons afficher notre problème dans un tableau depuis la fonction `affiche_probleme`"
   ]
  },
  {
   "cell_type": "code",
   "execution_count": 34,
   "id": "productive-likelihood",
   "metadata": {},
   "outputs": [
    {
     "data": {
      "text/html": [
       "<pre style=\"white-space:pre;overflow-x:auto;line-height:normal;font-family:Menlo,'DejaVu Sans Mono',consolas,'Courier New',monospace\"><span style=\"font-style: italic\">                           Problème d'ordonnancement                            </span>\n",
       "┏━━━━━━━┳━━━━━━━━━━━━━┳━━━━━━━━━━━━━━━━━━━━━━━━━━━━━━━━━━━━━━━━━━━━━━━━━━━━━━━━┓\n",
       "┃<span style=\"font-weight: bold\"> Tâche </span>┃<span style=\"font-weight: bold\"> Durée       </span>┃<span style=\"font-weight: bold\"> Prérequis                                              </span>┃\n",
       "┡━━━━━━━╇━━━━━━━━━━━━━╇━━━━━━━━━━━━━━━━━━━━━━━━━━━━━━━━━━━━━━━━━━━━━━━━━━━━━━━━┩\n",
       "│ A     │ 1 semaine   │                                                        │\n",
       "│ B     │ 1 heure     │ fin de A                                               │\n",
       "│ C     │ 34 secondes │ fin de A + 3 jours et debut de B + 2 heures 56 minutes │\n",
       "└───────┴─────────────┴────────────────────────────────────────────────────────┘\n",
       "</pre>\n"
      ],
      "text/plain": [
       "<rich.jupyter.JupyterRenderable at 0x1da20bb0730>"
      ]
     },
     "metadata": {},
     "output_type": "display_data"
    }
   ],
   "source": [
    "mon_probleme.affiche_probleme()"
   ]
  },
  {
   "cell_type": "markdown",
   "id": "white-marker",
   "metadata": {},
   "source": [
    "Nous pouvons rajouter l'argument `entier=True` pour ajouter les correspondances/natures des tâches"
   ]
  },
  {
   "cell_type": "code",
   "execution_count": 35,
   "id": "entire-giant",
   "metadata": {},
   "outputs": [
    {
     "data": {
      "text/html": [
       "<pre style=\"white-space:pre;overflow-x:auto;line-height:normal;font-family:Menlo,'DejaVu Sans Mono',consolas,'Courier New',monospace\"><span style=\"font-style: italic\">                                  Problème d'ordonnancement                                  </span>\n",
       "┏━━━━━━━┳━━━━━━━━━━━━━━━━━━━━━━━━━━━━━━┳━━━━━━━━━━━━━┳━━━━━━━━━━━━━━━━━━━━━━━━━━━━━━━━━━━━━━┓\n",
       "┃<span style=\"font-weight: bold\"> Tâche </span>┃<span style=\"font-weight: bold\"> Nature                       </span>┃<span style=\"font-weight: bold\"> Durée       </span>┃<span style=\"font-weight: bold\"> Prérequis                            </span>┃\n",
       "┡━━━━━━━╇━━━━━━━━━━━━━━━━━━━━━━━━━━━━━━╇━━━━━━━━━━━━━╇━━━━━━━━━━━━━━━━━━━━━━━━━━━━━━━━━━━━━━┩\n",
       "│ A     │ Créer la librairie           │ 1 semaine   │                                      │\n",
       "│ B     │ Expliquer aux utilisateurs   │ 1 heure     │ fin de A                             │\n",
       "│ C     │ Mettre en ligne la librairie │ 34 secondes │ fin de A + 3 jours et debut de B + 2 │\n",
       "│       │                              │             │ heures 56 minutes                    │\n",
       "└───────┴──────────────────────────────┴─────────────┴──────────────────────────────────────┘\n",
       "</pre>\n"
      ],
      "text/plain": [
       "<rich.jupyter.JupyterRenderable at 0x1da237fa190>"
      ]
     },
     "metadata": {},
     "output_type": "display_data"
    }
   ],
   "source": [
    "mon_probleme.affiche_probleme(entier=True)"
   ]
  },
  {
   "cell_type": "markdown",
   "id": "coral-tattoo",
   "metadata": {},
   "source": [
    "Nous avons aussi l'argument `brute=True`. C'est à dire qu'il affiche des durées non retravaillées."
   ]
  },
  {
   "cell_type": "code",
   "execution_count": 36,
   "id": "tribal-manor",
   "metadata": {},
   "outputs": [],
   "source": [
    "mon_probleme_exemple_brute=Probleme.par_str(\"\"\"\n",
    "A / 1847 semaine / /Créer la librairie\n",
    "B / 172367 heure / A fin /Expliquer aux utilisateurs\n",
    "C / 35780 secondes / A fin (1900 jours) | B debut (35 heures + 455 minutes) / Mettre en ligne la librairie\"\"\")"
   ]
  },
  {
   "cell_type": "code",
   "execution_count": 37,
   "id": "physical-prisoner",
   "metadata": {},
   "outputs": [
    {
     "data": {
      "text/html": [
       "<pre style=\"white-space:pre;overflow-x:auto;line-height:normal;font-family:Menlo,'DejaVu Sans Mono',consolas,'Courier New',monospace\"><span style=\"font-style: italic\">                                  Problème d'ordonnancement                                  </span>\n",
       "┏━━━━━━━┳━━━━━━━━━━━━━━━━━━━━━━━━━━━━━━━━━┳━━━━━━━━━━━━━━━━━━━━━━━━━━━━━━━━━━━━━━━━━━━━━━━━━┓\n",
       "┃<span style=\"font-weight: bold\"> Tâche </span>┃<span style=\"font-weight: bold\"> Durée                           </span>┃<span style=\"font-weight: bold\"> Prérequis                                       </span>┃\n",
       "┡━━━━━━━╇━━━━━━━━━━━━━━━━━━━━━━━━━━━━━━━━━╇━━━━━━━━━━━━━━━━━━━━━━━━━━━━━━━━━━━━━━━━━━━━━━━━━┩\n",
       "│ A     │ 1847 semaines                   │                                                 │\n",
       "│ B     │ 1025 semaines 6 jours 23 heures │ fin de A                                        │\n",
       "│ C     │ 9 heures 56 minutes 20 secondes │ fin de A + 271 semaines 3 jours et debut de B + │\n",
       "│       │                                 │ 1 jour 18 heures 35 minutes                     │\n",
       "└───────┴─────────────────────────────────┴─────────────────────────────────────────────────┘\n",
       "</pre>\n"
      ],
      "text/plain": [
       "<rich.jupyter.JupyterRenderable at 0x1da23a51610>"
      ]
     },
     "metadata": {},
     "output_type": "display_data"
    },
    {
     "data": {
      "text/html": [
       "<pre style=\"white-space:pre;overflow-x:auto;line-height:normal;font-family:Menlo,'DejaVu Sans Mono',consolas,'Courier New',monospace\"><span style=\"font-style: italic\">                                 Problème d'ordonnancement                                 </span>\n",
       "┏━━━━━━━┳━━━━━━━━━━━━━━━━━┳━━━━━━━━━━━━━━━━━━━━━━━━━━━━━━━━━━━━━━━━━━━━━━━━━━━━━━━━━━━━━━━┓\n",
       "┃<span style=\"font-weight: bold\"> Tâche </span>┃<span style=\"font-weight: bold\"> Durée           </span>┃<span style=\"font-weight: bold\"> Prérequis                                                     </span>┃\n",
       "┡━━━━━━━╇━━━━━━━━━━━━━━━━━╇━━━━━━━━━━━━━━━━━━━━━━━━━━━━━━━━━━━━━━━━━━━━━━━━━━━━━━━━━━━━━━━┩\n",
       "│ A     │ 1847 semaines   │                                                               │\n",
       "│ B     │ 172367 heures   │ fin de A                                                      │\n",
       "│ C     │ 35780 secondes  │ fin de A + 1900 jours  et debut de B + 35 heures 455 minutes  │\n",
       "└───────┴─────────────────┴───────────────────────────────────────────────────────────────┘\n",
       "</pre>\n"
      ],
      "text/plain": [
       "<rich.jupyter.JupyterRenderable at 0x1da237fa190>"
      ]
     },
     "metadata": {},
     "output_type": "display_data"
    }
   ],
   "source": [
    "mon_probleme_exemple_brute.affiche_probleme()\n",
    "mon_probleme_exemple_brute.affiche_probleme(brute=True)"
   ]
  },
  {
   "cell_type": "markdown",
   "id": "aging-converter",
   "metadata": {},
   "source": [
    "**Attention** Lorsque des secondes, heures, minutes, jours et semaines sont renseignées, il ne les retravaille pas en mois et années. Nous perdons en précisions sinon."
   ]
  },
  {
   "cell_type": "markdown",
   "id": "leading-banner",
   "metadata": {},
   "source": [
    "Nous pouvons aussi afficher un tableau des noms de tâche et leurs natures/correspondances"
   ]
  },
  {
   "cell_type": "code",
   "execution_count": 38,
   "id": "novel-physics",
   "metadata": {},
   "outputs": [
    {
     "data": {
      "text/html": [
       "<pre style=\"white-space:pre;overflow-x:auto;line-height:normal;font-family:Menlo,'DejaVu Sans Mono',consolas,'Courier New',monospace\"><span style=\"font-style: italic\">            Correspondances             </span>\n",
       "┏━━━━━━━━━━━━━━━━━━━━━━━━━━━━━━┳━━━━━━━┓\n",
       "┃<span style=\"font-weight: bold\"> Nature                       </span>┃<span style=\"font-weight: bold\"> Tâche </span>┃\n",
       "┡━━━━━━━━━━━━━━━━━━━━━━━━━━━━━━╇━━━━━━━┩\n",
       "│ Créer la librairie           │ A     │\n",
       "│ Expliquer aux utilisateurs   │ B     │\n",
       "│ Mettre en ligne la librairie │ C     │\n",
       "└──────────────────────────────┴───────┘\n",
       "</pre>\n"
      ],
      "text/plain": [
       "<rich.jupyter.JupyterRenderable at 0x1da23a51940>"
      ]
     },
     "metadata": {},
     "output_type": "display_data"
    }
   ],
   "source": [
    "mon_probleme.affiche_correspondance()"
   ]
  },
  {
   "cell_type": "markdown",
   "id": "understanding-judge",
   "metadata": {},
   "source": [
    "Cette classe gére les erreurs :\n",
    "\n",
    "- Ne pas avoir des tâches identiques du point de vue de leurs noms."
   ]
  },
  {
   "cell_type": "markdown",
   "id": "egyptian-avenue",
   "metadata": {},
   "source": [
    "## Module `algorithme`"
   ]
  },
  {
   "cell_type": "markdown",
   "id": "stainless-corporation",
   "metadata": {},
   "source": [
    "Ce module contient l'algorithme de résolution du problème d'ordonnancement\n",
    "\n",
    "À vrai dire, il en contient deux :\n",
    "- L'un en sortira des durées sous forme d'un emploi du temps\n",
    "- L'autre en sortira des dates sous forme d'un calendrier."
   ]
  },
  {
   "cell_type": "markdown",
   "id": "final-indicator",
   "metadata": {},
   "source": [
    "### L'algorithme en durée\n",
    "\n",
    "Il est réalisé par la fonction `resous_EDT(mon_probleme)`. Il ressortira un objet **EDT**, que l'on expliquera plus tard.\n",
    "En voici un exemple."
   ]
  },
  {
   "cell_type": "code",
   "execution_count": 39,
   "id": "continent-cache",
   "metadata": {},
   "outputs": [
    {
     "data": {
      "text/html": [
       "<pre style=\"white-space:pre;overflow-x:auto;line-height:normal;font-family:Menlo,'DejaVu Sans Mono',consolas,'Courier New',monospace\">EDT<span style=\"font-weight: bold\">(</span><span style=\"color: #808000\">activites</span>=<span style=\"font-weight: bold\">[</span>Activite<span style=\"font-weight: bold\">(</span><span style=\"color: #808000\">tache</span>=<span style=\"color: #800080\">Tache</span><span style=\"font-weight: bold\">(</span><span style=\"color: #808000\">nom</span>=<span style=\"color: #008000\">'A'</span>, <span style=\"color: #808000\">duree</span>=<span style=\"color: #800080\">Duree</span><span style=\"font-weight: bold\">(</span><span style=\"color: #808000\">semaines</span>=<span style=\"color: #000080; font-weight: bold\">1</span><span style=\"font-weight: bold\">)</span>, <span style=\"color: #808000\">prerequis</span>=<span style=\"font-weight: bold\">[]</span>, \n",
       "<span style=\"color: #808000\">correspondance</span>=<span style=\"color: #008000\">'Créer la librairie'</span><span style=\"font-weight: bold\">)</span>, <span style=\"color: #808000\">debut</span>=<span style=\"color: #800080\">Duree</span><span style=\"font-weight: bold\">(</span>Aucune durée<span style=\"font-weight: bold\">)</span>, <span style=\"color: #808000\">fin</span>=<span style=\"color: #800080\">Duree</span><span style=\"font-weight: bold\">(</span><span style=\"color: #808000\">semaines</span>=<span style=\"color: #000080; font-weight: bold\">1</span><span style=\"font-weight: bold\">))</span>, \n",
       "Activite<span style=\"font-weight: bold\">(</span><span style=\"color: #808000\">tache</span>=<span style=\"color: #800080\">Tache</span><span style=\"font-weight: bold\">(</span><span style=\"color: #808000\">nom</span>=<span style=\"color: #008000\">'B'</span>, <span style=\"color: #808000\">duree</span>=<span style=\"color: #800080\">Duree</span><span style=\"font-weight: bold\">(</span><span style=\"color: #808000\">heures</span>=<span style=\"color: #000080; font-weight: bold\">1</span><span style=\"font-weight: bold\">)</span>, <span style=\"color: #808000\">prerequis</span>=<span style=\"font-weight: bold\">[</span>Prerequis<span style=\"font-weight: bold\">(</span><span style=\"color: #808000\">nom</span>=<span style=\"color: #008000\">'A'</span>, <span style=\"color: #808000\">typ</span>=<span style=\"color: #008000\">'fin'</span>,\n",
       "<span style=\"color: #808000\">latence</span>=<span style=\"color: #800080\">Duree</span><span style=\"font-weight: bold\">(</span>Aucune durée<span style=\"font-weight: bold\">))]</span>, <span style=\"color: #808000\">correspondance</span>=<span style=\"color: #008000\">'Expliquer aux utilisateurs'</span><span style=\"font-weight: bold\">)</span>, \n",
       "<span style=\"color: #808000\">debut</span>=<span style=\"color: #800080\">Duree</span><span style=\"font-weight: bold\">(</span><span style=\"color: #808000\">semaines</span>=<span style=\"color: #000080; font-weight: bold\">1</span><span style=\"font-weight: bold\">)</span>, <span style=\"color: #808000\">fin</span>=<span style=\"color: #800080\">Duree</span><span style=\"font-weight: bold\">(</span><span style=\"color: #808000\">semaines</span>=<span style=\"color: #000080; font-weight: bold\">1</span>, <span style=\"color: #808000\">heures</span>=<span style=\"color: #000080; font-weight: bold\">1</span><span style=\"font-weight: bold\">))</span>, Activite<span style=\"font-weight: bold\">(</span><span style=\"color: #808000\">tache</span>=<span style=\"color: #800080\">Tache</span><span style=\"font-weight: bold\">(</span><span style=\"color: #808000\">nom</span>=<span style=\"color: #008000\">'C'</span>, \n",
       "<span style=\"color: #808000\">duree</span>=<span style=\"color: #800080\">Duree</span><span style=\"font-weight: bold\">(</span><span style=\"color: #808000\">secondes</span>=<span style=\"color: #000080; font-weight: bold\">34</span><span style=\"font-weight: bold\">)</span>, <span style=\"color: #808000\">prerequis</span>=<span style=\"font-weight: bold\">[</span>Prerequis<span style=\"font-weight: bold\">(</span><span style=\"color: #808000\">nom</span>=<span style=\"color: #008000\">'A'</span>, <span style=\"color: #808000\">typ</span>=<span style=\"color: #008000\">'fin'</span>, <span style=\"color: #808000\">latence</span>=<span style=\"color: #800080\">Duree</span><span style=\"font-weight: bold\">(</span><span style=\"color: #808000\">jours</span>=<span style=\"color: #000080; font-weight: bold\">3</span><span style=\"font-weight: bold\">))</span>, \n",
       "Prerequis<span style=\"font-weight: bold\">(</span><span style=\"color: #808000\">nom</span>=<span style=\"color: #008000\">'B'</span>, <span style=\"color: #808000\">typ</span>=<span style=\"color: #008000\">'debut'</span>, <span style=\"color: #808000\">latence</span>=<span style=\"color: #800080\">Duree</span><span style=\"font-weight: bold\">(</span><span style=\"color: #808000\">heures</span>=<span style=\"color: #000080; font-weight: bold\">2</span>, <span style=\"color: #808000\">minutes</span>=<span style=\"color: #000080; font-weight: bold\">56</span><span style=\"font-weight: bold\">))]</span>, <span style=\"color: #808000\">correspondance</span>=<span style=\"color: #008000\">'Mettre</span>\n",
       "<span style=\"color: #008000\">en ligne la librairie'</span><span style=\"font-weight: bold\">)</span>, <span style=\"color: #808000\">debut</span>=<span style=\"color: #800080\">Duree</span><span style=\"font-weight: bold\">(</span><span style=\"color: #808000\">semaines</span>=<span style=\"color: #000080; font-weight: bold\">1</span>, <span style=\"color: #808000\">jours</span>=<span style=\"color: #000080; font-weight: bold\">3</span><span style=\"font-weight: bold\">)</span>, <span style=\"color: #808000\">fin</span>=<span style=\"color: #800080\">Duree</span><span style=\"font-weight: bold\">(</span><span style=\"color: #808000\">semaines</span>=<span style=\"color: #000080; font-weight: bold\">1</span>, <span style=\"color: #808000\">jours</span>=<span style=\"color: #000080; font-weight: bold\">3</span>, \n",
       "<span style=\"color: #808000\">secondes</span>=<span style=\"color: #000080; font-weight: bold\">34</span><span style=\"font-weight: bold\">))])</span>\n",
       "</pre>\n"
      ],
      "text/plain": [
       "<rich.jupyter.JupyterRenderable at 0x1da23927d90>"
      ]
     },
     "metadata": {},
     "output_type": "display_data"
    },
    {
     "data": {
      "text/html": [
       "<pre style=\"white-space:pre;overflow-x:auto;line-height:normal;font-family:Menlo,'DejaVu Sans Mono',consolas,'Courier New',monospace\"><span style=\"font-style: italic\">           Solution du problème : emploi du temps            </span>\n",
       "┏━━━━━━━┳━━━━━━━━━━━━━━━━━━━┳━━━━━━━━━━━━━━━━━━━━━━━━━━━━━━━┓\n",
       "┃<span style=\"font-weight: bold\"> Tâche </span>┃<span style=\"font-weight: bold\"> Début             </span>┃<span style=\"font-weight: bold\"> Fin                           </span>┃\n",
       "┡━━━━━━━╇━━━━━━━━━━━━━━━━━━━╇━━━━━━━━━━━━━━━━━━━━━━━━━━━━━━━┩\n",
       "│ A     │ Débute au temps 0 │ 1 semaine                     │\n",
       "│ B     │ 1 semaine         │ 1 semaine 1 heure             │\n",
       "│ C     │ 1 semaine 3 jours │ 1 semaine 3 jours 34 secondes │\n",
       "└───────┴───────────────────┴───────────────────────────────┘\n",
       "</pre>\n"
      ],
      "text/plain": [
       "<rich.jupyter.JupyterRenderable at 0x1da2393eeb0>"
      ]
     },
     "metadata": {},
     "output_type": "display_data"
    }
   ],
   "source": [
    "print(resous_EDT(mon_probleme))\n",
    "resous_EDT(mon_probleme).affiche()"
   ]
  },
  {
   "cell_type": "markdown",
   "id": "fuzzy-sauce",
   "metadata": {},
   "source": [
    "Nous pouvons rajouter des conditions comme une durée d'éxécution journalière de tâches ou des jours hebdomadaire de repos."
   ]
  },
  {
   "cell_type": "code",
   "execution_count": 40,
   "id": "retained-hunger",
   "metadata": {},
   "outputs": [
    {
     "data": {
      "text/html": [
       "<pre style=\"white-space:pre;overflow-x:auto;line-height:normal;font-family:Menlo,'DejaVu Sans Mono',consolas,'Courier New',monospace\"><span style=\"font-style: italic\">           Solution du problème : emploi du temps           </span>\n",
       "┏━━━━━━━┳━━━━━━━━━━━━━━━━━━━━┳━━━━━━━━━━━━━━━━━━━━━━━━━━━━━┓\n",
       "┃<span style=\"font-weight: bold\"> Tâche </span>┃<span style=\"font-weight: bold\"> Début              </span>┃<span style=\"font-weight: bold\"> Fin                         </span>┃\n",
       "┡━━━━━━━╇━━━━━━━━━━━━━━━━━━━━╇━━━━━━━━━━━━━━━━━━━━━━━━━━━━━┩\n",
       "│ A     │ Débute au temps 0  │ 2 semaines 4 jours          │\n",
       "│ B     │ 2 semaines 4 jours │ 2 semaines 4 jours 6 heures │\n",
       "│ C     │ 3 semaines         │ 3 semaines 34 secondes      │\n",
       "└───────┴────────────────────┴─────────────────────────────┘\n",
       "</pre>\n"
      ],
      "text/plain": [
       "<rich.jupyter.JupyterRenderable at 0x1da23a51b50>"
      ]
     },
     "metadata": {},
     "output_type": "display_data"
    }
   ],
   "source": [
    "resous_EDT(mon_probleme, duree_max_journalier=12, nb_jours_repos=2).affiche()"
   ]
  },
  {
   "cell_type": "markdown",
   "id": "orange-chapter",
   "metadata": {},
   "source": [
    "**Attention** : nous perdons en précisions avec ces arguments.\n",
    "En général:\n",
    "- Le fait de rajouter un nb de jours de repos *sous-estime*\n",
    "- Le fait de rajouter une duree d'éxécution journalière *sur-estime*"
   ]
  },
  {
   "cell_type": "markdown",
   "id": "vietnamese-latex",
   "metadata": {},
   "source": [
    "### L'algorithme en date\n",
    "\n",
    "Il est réalisé par la fonction `resous_Calendrier(mon_probleme)`. Il ressortira un objet **Calendrier**, que l'on expliquera plus tard.\n",
    "\n",
    "Nous devons renseigner une date de commencement d'éxécution de tâche. Il peut-être de type **Date** ou il peut-être construit avec une structure particulière.\n",
    "En voici un exemple."
   ]
  },
  {
   "cell_type": "code",
   "execution_count": 41,
   "id": "annoying-tamil",
   "metadata": {},
   "outputs": [
    {
     "data": {
      "text/html": [
       "<pre style=\"white-space:pre;overflow-x:auto;line-height:normal;font-family:Menlo,'DejaVu Sans Mono',consolas,'Courier New',monospace\">Calendrier<span style=\"font-weight: bold\">(</span><span style=\"color: #808000\">dates</span>=<span style=\"font-weight: bold\">[</span>Datation<span style=\"font-weight: bold\">(</span><span style=\"color: #808000\">tache</span>=<span style=\"color: #800080\">Tache</span><span style=\"font-weight: bold\">(</span><span style=\"color: #808000\">nom</span>=<span style=\"color: #008000\">'A'</span>, <span style=\"color: #808000\">duree</span>=<span style=\"color: #800080\">Duree</span><span style=\"font-weight: bold\">(</span><span style=\"color: #808000\">semaines</span>=<span style=\"color: #000080; font-weight: bold\">1</span><span style=\"font-weight: bold\">)</span>, <span style=\"color: #808000\">prerequis</span>=<span style=\"font-weight: bold\">[]</span>, \n",
       "<span style=\"color: #808000\">correspondance</span>=<span style=\"color: #008000\">'Créer la librairie'</span><span style=\"font-weight: bold\">)</span>, <span style=\"color: #808000\">date_debut</span>=<span style=\"color: #800080\">Date</span><span style=\"font-weight: bold\">(</span><span style=\"color: #808000\">jours</span>=<span style=\"color: #000080; font-weight: bold\">12</span>, <span style=\"color: #808000\">mois</span>=<span style=\"color: #000080; font-weight: bold\">1</span>, <span style=\"color: #808000\">annees</span>=<span style=\"color: #000080; font-weight: bold\">2013</span>, \n",
       "<span style=\"color: #808000\">heures</span>=<span style=\"color: #000080; font-weight: bold\">19</span>, <span style=\"color: #808000\">minutes</span>=<span style=\"color: #000080; font-weight: bold\">0</span>, <span style=\"color: #808000\">secondes</span>=<span style=\"color: #000080; font-weight: bold\">30</span><span style=\"font-weight: bold\">)</span>, <span style=\"color: #808000\">date_fin</span>=<span style=\"color: #800080\">Date</span><span style=\"font-weight: bold\">(</span><span style=\"color: #808000\">jours</span>=<span style=\"color: #000080; font-weight: bold\">19</span>, <span style=\"color: #808000\">mois</span>=<span style=\"color: #000080; font-weight: bold\">1</span>, <span style=\"color: #808000\">annees</span>=<span style=\"color: #000080; font-weight: bold\">2013</span>, <span style=\"color: #808000\">heures</span>=<span style=\"color: #000080; font-weight: bold\">19</span>, \n",
       "<span style=\"color: #808000\">minutes</span>=<span style=\"color: #000080; font-weight: bold\">0</span>, <span style=\"color: #808000\">secondes</span>=<span style=\"color: #000080; font-weight: bold\">30</span><span style=\"font-weight: bold\">))</span>, Datation<span style=\"font-weight: bold\">(</span><span style=\"color: #808000\">tache</span>=<span style=\"color: #800080\">Tache</span><span style=\"font-weight: bold\">(</span><span style=\"color: #808000\">nom</span>=<span style=\"color: #008000\">'B'</span>, <span style=\"color: #808000\">duree</span>=<span style=\"color: #800080\">Duree</span><span style=\"font-weight: bold\">(</span><span style=\"color: #808000\">heures</span>=<span style=\"color: #000080; font-weight: bold\">1</span><span style=\"font-weight: bold\">)</span>, \n",
       "<span style=\"color: #808000\">prerequis</span>=<span style=\"font-weight: bold\">[</span>Prerequis<span style=\"font-weight: bold\">(</span><span style=\"color: #808000\">nom</span>=<span style=\"color: #008000\">'A'</span>, <span style=\"color: #808000\">typ</span>=<span style=\"color: #008000\">'fin'</span>, <span style=\"color: #808000\">latence</span>=<span style=\"color: #800080\">Duree</span><span style=\"font-weight: bold\">(</span>Aucune durée<span style=\"font-weight: bold\">))]</span>, \n",
       "<span style=\"color: #808000\">correspondance</span>=<span style=\"color: #008000\">'Expliquer aux utilisateurs'</span><span style=\"font-weight: bold\">)</span>, <span style=\"color: #808000\">date_debut</span>=<span style=\"color: #800080\">Date</span><span style=\"font-weight: bold\">(</span><span style=\"color: #808000\">jours</span>=<span style=\"color: #000080; font-weight: bold\">19</span>, <span style=\"color: #808000\">mois</span>=<span style=\"color: #000080; font-weight: bold\">1</span>, <span style=\"color: #808000\">annees</span>=<span style=\"color: #000080; font-weight: bold\">2013</span>, \n",
       "<span style=\"color: #808000\">heures</span>=<span style=\"color: #000080; font-weight: bold\">19</span>, <span style=\"color: #808000\">minutes</span>=<span style=\"color: #000080; font-weight: bold\">0</span>, <span style=\"color: #808000\">secondes</span>=<span style=\"color: #000080; font-weight: bold\">30</span><span style=\"font-weight: bold\">)</span>, <span style=\"color: #808000\">date_fin</span>=<span style=\"color: #800080\">Date</span><span style=\"font-weight: bold\">(</span><span style=\"color: #808000\">jours</span>=<span style=\"color: #000080; font-weight: bold\">19</span>, <span style=\"color: #808000\">mois</span>=<span style=\"color: #000080; font-weight: bold\">1</span>, <span style=\"color: #808000\">annees</span>=<span style=\"color: #000080; font-weight: bold\">2013</span>, <span style=\"color: #808000\">heures</span>=<span style=\"color: #000080; font-weight: bold\">20</span>, \n",
       "<span style=\"color: #808000\">minutes</span>=<span style=\"color: #000080; font-weight: bold\">0</span>, <span style=\"color: #808000\">secondes</span>=<span style=\"color: #000080; font-weight: bold\">30</span><span style=\"font-weight: bold\">))</span>, Datation<span style=\"font-weight: bold\">(</span><span style=\"color: #808000\">tache</span>=<span style=\"color: #800080\">Tache</span><span style=\"font-weight: bold\">(</span><span style=\"color: #808000\">nom</span>=<span style=\"color: #008000\">'C'</span>, <span style=\"color: #808000\">duree</span>=<span style=\"color: #800080\">Duree</span><span style=\"font-weight: bold\">(</span><span style=\"color: #808000\">secondes</span>=<span style=\"color: #000080; font-weight: bold\">34</span><span style=\"font-weight: bold\">)</span>, \n",
       "<span style=\"color: #808000\">prerequis</span>=<span style=\"font-weight: bold\">[</span>Prerequis<span style=\"font-weight: bold\">(</span><span style=\"color: #808000\">nom</span>=<span style=\"color: #008000\">'A'</span>, <span style=\"color: #808000\">typ</span>=<span style=\"color: #008000\">'fin'</span>, <span style=\"color: #808000\">latence</span>=<span style=\"color: #800080\">Duree</span><span style=\"font-weight: bold\">(</span><span style=\"color: #808000\">jours</span>=<span style=\"color: #000080; font-weight: bold\">3</span><span style=\"font-weight: bold\">))</span>, Prerequis<span style=\"font-weight: bold\">(</span><span style=\"color: #808000\">nom</span>=<span style=\"color: #008000\">'B'</span>, \n",
       "<span style=\"color: #808000\">typ</span>=<span style=\"color: #008000\">'debut'</span>, <span style=\"color: #808000\">latence</span>=<span style=\"color: #800080\">Duree</span><span style=\"font-weight: bold\">(</span><span style=\"color: #808000\">heures</span>=<span style=\"color: #000080; font-weight: bold\">2</span>, <span style=\"color: #808000\">minutes</span>=<span style=\"color: #000080; font-weight: bold\">56</span><span style=\"font-weight: bold\">))]</span>, <span style=\"color: #808000\">correspondance</span>=<span style=\"color: #008000\">'Mettre en ligne la </span>\n",
       "<span style=\"color: #008000\">librairie'</span><span style=\"font-weight: bold\">)</span>, <span style=\"color: #808000\">date_debut</span>=<span style=\"color: #800080\">Date</span><span style=\"font-weight: bold\">(</span><span style=\"color: #808000\">jours</span>=<span style=\"color: #000080; font-weight: bold\">22</span>, <span style=\"color: #808000\">mois</span>=<span style=\"color: #000080; font-weight: bold\">1</span>, <span style=\"color: #808000\">annees</span>=<span style=\"color: #000080; font-weight: bold\">2013</span>, <span style=\"color: #808000\">heures</span>=<span style=\"color: #000080; font-weight: bold\">19</span>, <span style=\"color: #808000\">minutes</span>=<span style=\"color: #000080; font-weight: bold\">0</span>, \n",
       "<span style=\"color: #808000\">secondes</span>=<span style=\"color: #000080; font-weight: bold\">30</span><span style=\"font-weight: bold\">)</span>, <span style=\"color: #808000\">date_fin</span>=<span style=\"color: #800080\">Date</span><span style=\"font-weight: bold\">(</span><span style=\"color: #808000\">jours</span>=<span style=\"color: #000080; font-weight: bold\">22</span>, <span style=\"color: #808000\">mois</span>=<span style=\"color: #000080; font-weight: bold\">1</span>, <span style=\"color: #808000\">annees</span>=<span style=\"color: #000080; font-weight: bold\">2013</span>, <span style=\"color: #808000\">heures</span>=<span style=\"color: #000080; font-weight: bold\">19</span>, <span style=\"color: #808000\">minutes</span>=<span style=\"color: #000080; font-weight: bold\">1</span>, \n",
       "<span style=\"color: #808000\">secondes</span>=<span style=\"color: #000080; font-weight: bold\">4</span><span style=\"font-weight: bold\">))])</span>\n",
       "</pre>\n"
      ],
      "text/plain": [
       "<rich.jupyter.JupyterRenderable at 0x1da23a5fdf0>"
      ]
     },
     "metadata": {},
     "output_type": "display_data"
    },
    {
     "data": {
      "text/html": [
       "<pre style=\"white-space:pre;overflow-x:auto;line-height:normal;font-family:Menlo,'DejaVu Sans Mono',consolas,'Courier New',monospace\"><span style=\"font-style: italic\">                             Solution du problème : calendrier                             </span>\n",
       "┏━━━━━━━┳━━━━━━━━━━━━━━━━━━━━━━━━━━━━━━━━━━━━━━━━┳━━━━━━━━━━━━━━━━━━━━━━━━━━━━━━━━━━━━━━━━┓\n",
       "┃<span style=\"font-weight: bold\"> Tâche </span>┃<span style=\"font-weight: bold\"> Début                                  </span>┃<span style=\"font-weight: bold\"> Fin                                    </span>┃\n",
       "┡━━━━━━━╇━━━━━━━━━━━━━━━━━━━━━━━━━━━━━━━━━━━━━━━━╇━━━━━━━━━━━━━━━━━━━━━━━━━━━━━━━━━━━━━━━━┩\n",
       "│ A     │ 12 janvier 2013 à 00h00 et 00 secondes │ 19 janvier 2013 à 00h00 et 00 secondes │\n",
       "│ B     │ 19 janvier 2013 à 00h00 et 00 secondes │ 19 janvier 2013 à 01h00 et 00 secondes │\n",
       "│ C     │ 22 janvier 2013 à 00h00 et 00 secondes │ 22 janvier 2013 à 00h00 et 34 secondes │\n",
       "└───────┴────────────────────────────────────────┴────────────────────────────────────────┘\n",
       "</pre>\n"
      ],
      "text/plain": [
       "<rich.jupyter.JupyterRenderable at 0x1da23a51b50>"
      ]
     },
     "metadata": {},
     "output_type": "display_data"
    }
   ],
   "source": [
    "print(resous_Calendrier(mon_probleme, date_commencement=\"12/01/2013/19:00:30\"))\n",
    "resous_Calendrier(mon_probleme, date_commencement=\"12/01/2013\").affiche()"
   ]
  },
  {
   "cell_type": "markdown",
   "id": "similar-deputy",
   "metadata": {},
   "source": [
    "Nous pouvons aussi rajouter les mêmes conditions que l'algorithme en durée :\n",
    "\n",
    "- `jours_repos` : le nom des jours de repos.\n",
    "- `heures_execution` : la plage horaire d'éxécution de tâche."
   ]
  },
  {
   "cell_type": "code",
   "execution_count": 42,
   "id": "employed-gazette",
   "metadata": {},
   "outputs": [
    {
     "data": {
      "text/html": [
       "<pre style=\"white-space:pre;overflow-x:auto;line-height:normal;font-family:Menlo,'DejaVu Sans Mono',consolas,'Courier New',monospace\"><span style=\"font-style: italic\">                             Solution du problème : calendrier                             </span>\n",
       "┏━━━━━━━┳━━━━━━━━━━━━━━━━━━━━━━━━━━━━━━━━━━━━━━━━┳━━━━━━━━━━━━━━━━━━━━━━━━━━━━━━━━━━━━━━━━┓\n",
       "┃<span style=\"font-weight: bold\"> Tâche </span>┃<span style=\"font-weight: bold\"> Début                                  </span>┃<span style=\"font-weight: bold\"> Fin                                    </span>┃\n",
       "┡━━━━━━━╇━━━━━━━━━━━━━━━━━━━━━━━━━━━━━━━━━━━━━━━━╇━━━━━━━━━━━━━━━━━━━━━━━━━━━━━━━━━━━━━━━━┩\n",
       "│ A     │ 12 janvier 2013 à 09h00 et 00 secondes │ 31 janvier 2013 à 20h18 et 00 secondes │\n",
       "│ B     │ 31 janvier 2013 à 20h18 et 00 secondes │ 1 février 2013 à 09h00 et 00 secondes  │\n",
       "│ C     │ 3 février 2013 à 20h18 et 00 secondes  │ 3 février 2013 à 20h18 et 34 secondes  │\n",
       "└───────┴────────────────────────────────────────┴────────────────────────────────────────┘\n",
       "</pre>\n"
      ],
      "text/plain": [
       "<rich.jupyter.JupyterRenderable at 0x1da23a5f6a0>"
      ]
     },
     "metadata": {},
     "output_type": "display_data"
    }
   ],
   "source": [
    "resous_Calendrier(mon_probleme, date_commencement=\"12/01/2013\", jours_repos=\"Mardi mercredi\", heures_execution=\"09-22\").affiche()"
   ]
  },
  {
   "cell_type": "markdown",
   "id": "flush-magic",
   "metadata": {},
   "source": [
    "Il faut savoir que ces conditions ont été rajouté si nous avons ajouté des durées en brute.\n",
    "\n",
    "C'est à dire qu'une tâche prend vraiment 3 jours (donc 72heures) d'éxécution, au lieu de 3 jours de travail en ayant déja compris le fait qu'une journée de travail faisait $X$ heures."
   ]
  },
  {
   "cell_type": "markdown",
   "id": "exposed-packaging",
   "metadata": {},
   "source": [
    "Ces algorithmes gèrent certaines erreurs :\n",
    "- Si le nombre de jours de repos est égal à une semaine.\n",
    "- Si la durée d'éxécution journalière est négative.\n",
    "- Si le problème a une solution."
   ]
  },
  {
   "cell_type": "markdown",
   "id": "former-russian",
   "metadata": {},
   "source": [
    "## Le module `edt`"
   ]
  },
  {
   "cell_type": "markdown",
   "id": "advisory-nigeria",
   "metadata": {},
   "source": [
    "Ce module contient l'emploi du temps créé à partir de l'algorithme de résolution."
   ]
  },
  {
   "cell_type": "markdown",
   "id": "engaged-waterproof",
   "metadata": {},
   "source": [
    "### L'objet Activite"
   ]
  },
  {
   "cell_type": "markdown",
   "id": "vanilla-madison",
   "metadata": {},
   "source": [
    "Il représente une acitivté. Il contient :\n",
    "- Un objet **Tache**.\n",
    "- Une durée de début\n",
    "- Une durée de fin"
   ]
  },
  {
   "cell_type": "markdown",
   "id": "decimal-surgeon",
   "metadata": {},
   "source": [
    "En voici un petit exemple :"
   ]
  },
  {
   "cell_type": "code",
   "execution_count": 43,
   "id": "optical-monitor",
   "metadata": {},
   "outputs": [],
   "source": [
    "resolution_en_edt=resous_EDT(mon_probleme)"
   ]
  },
  {
   "cell_type": "code",
   "execution_count": 44,
   "id": "anonymous-bearing",
   "metadata": {},
   "outputs": [
    {
     "data": {
      "text/html": [
       "<pre style=\"white-space:pre;overflow-x:auto;line-height:normal;font-family:Menlo,'DejaVu Sans Mono',consolas,'Courier New',monospace\">Activite<span style=\"font-weight: bold\">(</span><span style=\"color: #808000\">tache</span>=<span style=\"color: #800080\">Tache</span><span style=\"font-weight: bold\">(</span><span style=\"color: #808000\">nom</span>=<span style=\"color: #008000\">'A'</span>, <span style=\"color: #808000\">duree</span>=<span style=\"color: #800080\">Duree</span><span style=\"font-weight: bold\">(</span><span style=\"color: #808000\">semaines</span>=<span style=\"color: #000080; font-weight: bold\">1</span><span style=\"font-weight: bold\">)</span>, <span style=\"color: #808000\">prerequis</span>=<span style=\"font-weight: bold\">[]</span>, <span style=\"color: #808000\">correspondance</span>=<span style=\"color: #008000\">'Créer la</span>\n",
       "<span style=\"color: #008000\">librairie'</span><span style=\"font-weight: bold\">)</span>, <span style=\"color: #808000\">debut</span>=<span style=\"color: #800080\">Duree</span><span style=\"font-weight: bold\">(</span>Aucune durée<span style=\"font-weight: bold\">)</span>, <span style=\"color: #808000\">fin</span>=<span style=\"color: #800080\">Duree</span><span style=\"font-weight: bold\">(</span><span style=\"color: #808000\">semaines</span>=<span style=\"color: #000080; font-weight: bold\">1</span><span style=\"font-weight: bold\">))</span>\n",
       "</pre>\n"
      ],
      "text/plain": [
       "<rich.jupyter.JupyterRenderable at 0x1da23948520>"
      ]
     },
     "metadata": {},
     "output_type": "display_data"
    }
   ],
   "source": [
    "print(resolution_en_edt[\"A\"])"
   ]
  },
  {
   "cell_type": "markdown",
   "id": "violent-roman",
   "metadata": {},
   "source": [
    "Il gère certaines erreurs :\n",
    "- Si la durée de fin moins la durée de début est égale à la durée du prérequis\n",
    "- Si la durée de début est inférieure a la durée de fin"
   ]
  },
  {
   "cell_type": "markdown",
   "id": "therapeutic-litigation",
   "metadata": {},
   "source": [
    "### L'objet `EDT`"
   ]
  },
  {
   "cell_type": "markdown",
   "id": "incident-carol",
   "metadata": {},
   "source": [
    "Il contient une liste d'objet `Activite`.\n",
    "\n",
    "Voici un exemple"
   ]
  },
  {
   "cell_type": "code",
   "execution_count": 45,
   "id": "swedish-strap",
   "metadata": {},
   "outputs": [
    {
     "data": {
      "text/html": [
       "<pre style=\"white-space:pre;overflow-x:auto;line-height:normal;font-family:Menlo,'DejaVu Sans Mono',consolas,'Courier New',monospace\">EDT<span style=\"font-weight: bold\">(</span><span style=\"color: #808000\">activites</span>=<span style=\"font-weight: bold\">[</span>Activite<span style=\"font-weight: bold\">(</span><span style=\"color: #808000\">tache</span>=<span style=\"color: #800080\">Tache</span><span style=\"font-weight: bold\">(</span><span style=\"color: #808000\">nom</span>=<span style=\"color: #008000\">'A'</span>, <span style=\"color: #808000\">duree</span>=<span style=\"color: #800080\">Duree</span><span style=\"font-weight: bold\">(</span><span style=\"color: #808000\">semaines</span>=<span style=\"color: #000080; font-weight: bold\">1</span><span style=\"font-weight: bold\">)</span>, <span style=\"color: #808000\">prerequis</span>=<span style=\"font-weight: bold\">[]</span>, \n",
       "<span style=\"color: #808000\">correspondance</span>=<span style=\"color: #008000\">'Créer la librairie'</span><span style=\"font-weight: bold\">)</span>, <span style=\"color: #808000\">debut</span>=<span style=\"color: #800080\">Duree</span><span style=\"font-weight: bold\">(</span>Aucune durée<span style=\"font-weight: bold\">)</span>, <span style=\"color: #808000\">fin</span>=<span style=\"color: #800080\">Duree</span><span style=\"font-weight: bold\">(</span><span style=\"color: #808000\">semaines</span>=<span style=\"color: #000080; font-weight: bold\">1</span><span style=\"font-weight: bold\">))</span>, \n",
       "Activite<span style=\"font-weight: bold\">(</span><span style=\"color: #808000\">tache</span>=<span style=\"color: #800080\">Tache</span><span style=\"font-weight: bold\">(</span><span style=\"color: #808000\">nom</span>=<span style=\"color: #008000\">'B'</span>, <span style=\"color: #808000\">duree</span>=<span style=\"color: #800080\">Duree</span><span style=\"font-weight: bold\">(</span><span style=\"color: #808000\">heures</span>=<span style=\"color: #000080; font-weight: bold\">1</span><span style=\"font-weight: bold\">)</span>, <span style=\"color: #808000\">prerequis</span>=<span style=\"font-weight: bold\">[</span>Prerequis<span style=\"font-weight: bold\">(</span><span style=\"color: #808000\">nom</span>=<span style=\"color: #008000\">'A'</span>, <span style=\"color: #808000\">typ</span>=<span style=\"color: #008000\">'fin'</span>,\n",
       "<span style=\"color: #808000\">latence</span>=<span style=\"color: #800080\">Duree</span><span style=\"font-weight: bold\">(</span>Aucune durée<span style=\"font-weight: bold\">))]</span>, <span style=\"color: #808000\">correspondance</span>=<span style=\"color: #008000\">'Expliquer aux utilisateurs'</span><span style=\"font-weight: bold\">)</span>, \n",
       "<span style=\"color: #808000\">debut</span>=<span style=\"color: #800080\">Duree</span><span style=\"font-weight: bold\">(</span><span style=\"color: #808000\">semaines</span>=<span style=\"color: #000080; font-weight: bold\">1</span><span style=\"font-weight: bold\">)</span>, <span style=\"color: #808000\">fin</span>=<span style=\"color: #800080\">Duree</span><span style=\"font-weight: bold\">(</span><span style=\"color: #808000\">semaines</span>=<span style=\"color: #000080; font-weight: bold\">1</span>, <span style=\"color: #808000\">heures</span>=<span style=\"color: #000080; font-weight: bold\">1</span><span style=\"font-weight: bold\">))</span>, Activite<span style=\"font-weight: bold\">(</span><span style=\"color: #808000\">tache</span>=<span style=\"color: #800080\">Tache</span><span style=\"font-weight: bold\">(</span><span style=\"color: #808000\">nom</span>=<span style=\"color: #008000\">'C'</span>, \n",
       "<span style=\"color: #808000\">duree</span>=<span style=\"color: #800080\">Duree</span><span style=\"font-weight: bold\">(</span><span style=\"color: #808000\">secondes</span>=<span style=\"color: #000080; font-weight: bold\">34</span><span style=\"font-weight: bold\">)</span>, <span style=\"color: #808000\">prerequis</span>=<span style=\"font-weight: bold\">[</span>Prerequis<span style=\"font-weight: bold\">(</span><span style=\"color: #808000\">nom</span>=<span style=\"color: #008000\">'A'</span>, <span style=\"color: #808000\">typ</span>=<span style=\"color: #008000\">'fin'</span>, <span style=\"color: #808000\">latence</span>=<span style=\"color: #800080\">Duree</span><span style=\"font-weight: bold\">(</span><span style=\"color: #808000\">jours</span>=<span style=\"color: #000080; font-weight: bold\">3</span><span style=\"font-weight: bold\">))</span>, \n",
       "Prerequis<span style=\"font-weight: bold\">(</span><span style=\"color: #808000\">nom</span>=<span style=\"color: #008000\">'B'</span>, <span style=\"color: #808000\">typ</span>=<span style=\"color: #008000\">'debut'</span>, <span style=\"color: #808000\">latence</span>=<span style=\"color: #800080\">Duree</span><span style=\"font-weight: bold\">(</span><span style=\"color: #808000\">heures</span>=<span style=\"color: #000080; font-weight: bold\">2</span>, <span style=\"color: #808000\">minutes</span>=<span style=\"color: #000080; font-weight: bold\">56</span><span style=\"font-weight: bold\">))]</span>, <span style=\"color: #808000\">correspondance</span>=<span style=\"color: #008000\">'Mettre</span>\n",
       "<span style=\"color: #008000\">en ligne la librairie'</span><span style=\"font-weight: bold\">)</span>, <span style=\"color: #808000\">debut</span>=<span style=\"color: #800080\">Duree</span><span style=\"font-weight: bold\">(</span><span style=\"color: #808000\">semaines</span>=<span style=\"color: #000080; font-weight: bold\">1</span>, <span style=\"color: #808000\">jours</span>=<span style=\"color: #000080; font-weight: bold\">3</span><span style=\"font-weight: bold\">)</span>, <span style=\"color: #808000\">fin</span>=<span style=\"color: #800080\">Duree</span><span style=\"font-weight: bold\">(</span><span style=\"color: #808000\">semaines</span>=<span style=\"color: #000080; font-weight: bold\">1</span>, <span style=\"color: #808000\">jours</span>=<span style=\"color: #000080; font-weight: bold\">3</span>, \n",
       "<span style=\"color: #808000\">secondes</span>=<span style=\"color: #000080; font-weight: bold\">34</span><span style=\"font-weight: bold\">))])</span>\n",
       "</pre>\n"
      ],
      "text/plain": [
       "<rich.jupyter.JupyterRenderable at 0x1da23a5fee0>"
      ]
     },
     "metadata": {},
     "output_type": "display_data"
    }
   ],
   "source": [
    "print(resolution_en_edt)"
   ]
  },
  {
   "cell_type": "markdown",
   "id": "distinguished-messenger",
   "metadata": {},
   "source": [
    "Nous pouvons ajouter au fur et à mesure des activités"
   ]
  },
  {
   "cell_type": "code",
   "execution_count": 46,
   "id": "chemical-publication",
   "metadata": {},
   "outputs": [
    {
     "data": {
      "text/html": [
       "<pre style=\"white-space:pre;overflow-x:auto;line-height:normal;font-family:Menlo,'DejaVu Sans Mono',consolas,'Courier New',monospace\">EDT<span style=\"font-weight: bold\">(</span><span style=\"color: #808000\">activites</span>=<span style=\"font-weight: bold\">[])</span>\n",
       "</pre>\n"
      ],
      "text/plain": [
       "<rich.jupyter.JupyterRenderable at 0x1da23a51af0>"
      ]
     },
     "metadata": {},
     "output_type": "display_data"
    }
   ],
   "source": [
    "edt_test=EDT(activites=[])\n",
    "print(edt_test)"
   ]
  },
  {
   "cell_type": "code",
   "execution_count": 47,
   "id": "pursuant-upgrade",
   "metadata": {},
   "outputs": [],
   "source": [
    "edt_test.ajoute(resolution_en_edt[\"A\"])"
   ]
  },
  {
   "cell_type": "code",
   "execution_count": 48,
   "id": "closing-metro",
   "metadata": {},
   "outputs": [
    {
     "data": {
      "text/html": [
       "<pre style=\"white-space:pre;overflow-x:auto;line-height:normal;font-family:Menlo,'DejaVu Sans Mono',consolas,'Courier New',monospace\">EDT<span style=\"font-weight: bold\">(</span><span style=\"color: #808000\">activites</span>=<span style=\"font-weight: bold\">[</span>Activite<span style=\"font-weight: bold\">(</span><span style=\"color: #808000\">tache</span>=<span style=\"color: #800080\">Tache</span><span style=\"font-weight: bold\">(</span><span style=\"color: #808000\">nom</span>=<span style=\"color: #008000\">'A'</span>, <span style=\"color: #808000\">duree</span>=<span style=\"color: #800080\">Duree</span><span style=\"font-weight: bold\">(</span><span style=\"color: #808000\">semaines</span>=<span style=\"color: #000080; font-weight: bold\">1</span><span style=\"font-weight: bold\">)</span>, <span style=\"color: #808000\">prerequis</span>=<span style=\"font-weight: bold\">[]</span>, \n",
       "<span style=\"color: #808000\">correspondance</span>=<span style=\"color: #008000\">'Créer la librairie'</span><span style=\"font-weight: bold\">)</span>, <span style=\"color: #808000\">debut</span>=<span style=\"color: #800080\">Duree</span><span style=\"font-weight: bold\">(</span>Aucune durée<span style=\"font-weight: bold\">)</span>, <span style=\"color: #808000\">fin</span>=<span style=\"color: #800080\">Duree</span><span style=\"font-weight: bold\">(</span><span style=\"color: #808000\">semaines</span>=<span style=\"color: #000080; font-weight: bold\">1</span><span style=\"font-weight: bold\">))])</span>\n",
       "</pre>\n"
      ],
      "text/plain": [
       "<rich.jupyter.JupyterRenderable at 0x1da2393e520>"
      ]
     },
     "metadata": {},
     "output_type": "display_data"
    }
   ],
   "source": [
    "print(edt_test)"
   ]
  },
  {
   "cell_type": "code",
   "execution_count": 49,
   "id": "olympic-spider",
   "metadata": {},
   "outputs": [
    {
     "data": {
      "text/plain": [
       "True"
      ]
     },
     "execution_count": 49,
     "metadata": {},
     "output_type": "execute_result"
    }
   ],
   "source": [
    "edt_test.ajoute(resolution_en_edt[\"B\"])\n",
    "edt_test.ajoute(resolution_en_edt[\"C\"])\n",
    "edt_test==resolution_en_edt"
   ]
  },
  {
   "cell_type": "markdown",
   "id": "political-herald",
   "metadata": {},
   "source": [
    "Nous pouvons regarder si un emploi du temps est valide c'est à dire s'il respecte les contraintes telles que la durée de fin est supérieure à la durée de début"
   ]
  },
  {
   "cell_type": "code",
   "execution_count": 50,
   "id": "buried-viking",
   "metadata": {},
   "outputs": [
    {
     "data": {
      "text/plain": [
       "True"
      ]
     },
     "execution_count": 50,
     "metadata": {},
     "output_type": "execute_result"
    }
   ],
   "source": [
    "edt_test.est_valide()"
   ]
  },
  {
   "cell_type": "markdown",
   "id": "informed-labor",
   "metadata": {},
   "source": [
    "Nous avons créé un affichage un peu plus plaisant pour représenter un emploi du temps."
   ]
  },
  {
   "cell_type": "code",
   "execution_count": 51,
   "id": "personal-doctor",
   "metadata": {},
   "outputs": [
    {
     "data": {
      "text/html": [
       "<pre style=\"white-space:pre;overflow-x:auto;line-height:normal;font-family:Menlo,'DejaVu Sans Mono',consolas,'Courier New',monospace\"><span style=\"font-style: italic\">           Solution du problème : emploi du temps            </span>\n",
       "┏━━━━━━━┳━━━━━━━━━━━━━━━━━━━┳━━━━━━━━━━━━━━━━━━━━━━━━━━━━━━━┓\n",
       "┃<span style=\"font-weight: bold\"> Tâche </span>┃<span style=\"font-weight: bold\"> Début             </span>┃<span style=\"font-weight: bold\"> Fin                           </span>┃\n",
       "┡━━━━━━━╇━━━━━━━━━━━━━━━━━━━╇━━━━━━━━━━━━━━━━━━━━━━━━━━━━━━━┩\n",
       "│ A     │ Débute au temps 0 │ 1 semaine                     │\n",
       "│ B     │ 1 semaine         │ 1 semaine 1 heure             │\n",
       "│ C     │ 1 semaine 3 jours │ 1 semaine 3 jours 34 secondes │\n",
       "└───────┴───────────────────┴───────────────────────────────┘\n",
       "</pre>\n"
      ],
      "text/plain": [
       "<rich.jupyter.JupyterRenderable at 0x1da2393e4c0>"
      ]
     },
     "metadata": {},
     "output_type": "display_data"
    }
   ],
   "source": [
    "edt_test.affiche()"
   ]
  },
  {
   "cell_type": "markdown",
   "id": "productive-politics",
   "metadata": {},
   "source": [
    "Nous pouvons rajouter l'argument `entier=True` pour ajouter les correspondances."
   ]
  },
  {
   "cell_type": "code",
   "execution_count": 52,
   "id": "central-beach",
   "metadata": {},
   "outputs": [
    {
     "data": {
      "text/html": [
       "<pre style=\"white-space:pre;overflow-x:auto;line-height:normal;font-family:Menlo,'DejaVu Sans Mono',consolas,'Courier New',monospace\"><span style=\"font-style: italic\">                           Solution du problème : emploi du temps                           </span>\n",
       "┏━━━━━━━┳━━━━━━━━━━━━━━━━━━━━━━━━━━━━━━┳━━━━━━━━━━━━━━━━━━━┳━━━━━━━━━━━━━━━━━━━━━━━━━━━━━━━┓\n",
       "┃<span style=\"font-weight: bold\"> Tâche </span>┃<span style=\"font-weight: bold\"> Nature                       </span>┃<span style=\"font-weight: bold\"> Début             </span>┃<span style=\"font-weight: bold\"> Fin                           </span>┃\n",
       "┡━━━━━━━╇━━━━━━━━━━━━━━━━━━━━━━━━━━━━━━╇━━━━━━━━━━━━━━━━━━━╇━━━━━━━━━━━━━━━━━━━━━━━━━━━━━━━┩\n",
       "│ A     │ Créer la librairie           │ Débute au temps 0 │ 1 semaine                     │\n",
       "│ B     │ Expliquer aux utilisateurs   │ 1 semaine         │ 1 semaine 1 heure             │\n",
       "│ C     │ Mettre en ligne la librairie │ 1 semaine 3 jours │ 1 semaine 3 jours 34 secondes │\n",
       "└───────┴──────────────────────────────┴───────────────────┴───────────────────────────────┘\n",
       "</pre>\n"
      ],
      "text/plain": [
       "<rich.jupyter.JupyterRenderable at 0x1da23ab5760>"
      ]
     },
     "metadata": {},
     "output_type": "display_data"
    }
   ],
   "source": [
    "edt_test.affiche(entier=True)"
   ]
  },
  {
   "cell_type": "markdown",
   "id": "cross-representative",
   "metadata": {},
   "source": [
    "**A affiner** :\n",
    "Nous pouvons aussi avoir une visualisation de notre calendrier."
   ]
  },
  {
   "cell_type": "code",
   "execution_count": 53,
   "id": "adverse-motel",
   "metadata": {},
   "outputs": [
    {
     "data": {
      "image/png": "[encoded data removed]",
      "text/plain": [
       "<Figure size 1080x360 with 1 Axes>"
      ]
     },
     "metadata": {
      "needs_background": "light"
     },
     "output_type": "display_data"
    }
   ],
   "source": [
    "edt_test.genere_graphique()"
   ]
  },
  {
   "cell_type": "markdown",
   "id": "presidential-width",
   "metadata": {},
   "source": [
    "## Le module `calendrier`"
   ]
  },
  {
   "cell_type": "markdown",
   "id": "painted-explanation",
   "metadata": {},
   "source": [
    "Ce module contient les classes **Date**, **Datation** et **Calendrier**."
   ]
  },
  {
   "cell_type": "markdown",
   "id": "liberal-shanghai",
   "metadata": {},
   "source": [
    "### L'objet Date"
   ]
  },
  {
   "cell_type": "markdown",
   "id": "intended-greeting",
   "metadata": {},
   "source": [
    "Il représente une date et peut aussi représenter une heure.\n",
    "Voici quelques exemples :"
   ]
  },
  {
   "cell_type": "code",
   "execution_count": 54,
   "id": "amateur-marking",
   "metadata": {},
   "outputs": [
    {
     "data": {
      "text/plain": [
       "Date(jours=23, mois=12, annees=1990)"
      ]
     },
     "execution_count": 54,
     "metadata": {},
     "output_type": "execute_result"
    }
   ],
   "source": [
    "Date(jours=23, mois=12, annees=1990)"
   ]
  },
  {
   "cell_type": "code",
   "execution_count": 55,
   "id": "configured-pantyhose",
   "metadata": {},
   "outputs": [
    {
     "data": {
      "text/plain": [
       "Date(jours=23, mois=12, annees=1990, heures=23, minutes=0, secondes=0)"
      ]
     },
     "execution_count": 55,
     "metadata": {},
     "output_type": "execute_result"
    }
   ],
   "source": [
    "Date(jours=23, mois=12, annees=1990, heures=23)"
   ]
  },
  {
   "cell_type": "markdown",
   "id": "blond-harvard",
   "metadata": {},
   "source": [
    "Cet objet est supervisé par l'objet **Datetime** de **Pendulum**.\n",
    "\n",
    "Nous pouvons donc convertir un objet **Datetime** vers un objet **Date** et inversement."
   ]
  },
  {
   "cell_type": "code",
   "execution_count": 56,
   "id": "informative-finger",
   "metadata": {},
   "outputs": [
    {
     "data": {
      "text/plain": [
       "DateTime(1990, 12, 23, 0, 0, 0, tzinfo=Timezone('UTC'))"
      ]
     },
     "execution_count": 56,
     "metadata": {},
     "output_type": "execute_result"
    }
   ],
   "source": [
    "date_test=Date(jours=23, mois=12, annees=1990)\n",
    "date_test._convertit_datetime()"
   ]
  },
  {
   "cell_type": "code",
   "execution_count": 57,
   "id": "automatic-literature",
   "metadata": {},
   "outputs": [
    {
     "data": {
      "text/plain": [
       "Date(jours=23, mois=12, annees=1990)"
      ]
     },
     "execution_count": 57,
     "metadata": {},
     "output_type": "execute_result"
    }
   ],
   "source": [
    "Date._convertit_date(datetime(day=23, month=12, year=1990))"
   ]
  },
  {
   "cell_type": "code",
   "execution_count": 58,
   "id": "northern-undergraduate",
   "metadata": {},
   "outputs": [
    {
     "data": {
      "text/plain": [
       "True"
      ]
     },
     "execution_count": 58,
     "metadata": {},
     "output_type": "execute_result"
    }
   ],
   "source": [
    "Date._convertit_date(datetime(day=23, month=12, year=1990))==date_test"
   ]
  },
  {
   "cell_type": "markdown",
   "id": "similar-influence",
   "metadata": {},
   "source": [
    "Nous pouvons aussi ajouter ou additionner ou soustraire une durée à cet objet."
   ]
  },
  {
   "cell_type": "code",
   "execution_count": 59,
   "id": "sticky-bronze",
   "metadata": {},
   "outputs": [],
   "source": [
    "duree=Duree(annees=2)"
   ]
  },
  {
   "cell_type": "code",
   "execution_count": 60,
   "id": "textile-joseph",
   "metadata": {},
   "outputs": [
    {
     "data": {
      "text/plain": [
       "Date(jours=23, mois=12, annees=1992)"
      ]
     },
     "execution_count": 60,
     "metadata": {},
     "output_type": "execute_result"
    }
   ],
   "source": [
    "date_test.add(duree)"
   ]
  },
  {
   "cell_type": "code",
   "execution_count": 61,
   "id": "funded-planning",
   "metadata": {},
   "outputs": [
    {
     "data": {
      "text/plain": [
       "Date(jours=23, mois=12, annees=1992)"
      ]
     },
     "execution_count": 61,
     "metadata": {},
     "output_type": "execute_result"
    }
   ],
   "source": [
    "date_test + duree"
   ]
  },
  {
   "cell_type": "code",
   "execution_count": 62,
   "id": "everyday-ethiopia",
   "metadata": {},
   "outputs": [
    {
     "data": {
      "text/plain": [
       "Date(jours=23, mois=12, annees=1988)"
      ]
     },
     "execution_count": 62,
     "metadata": {},
     "output_type": "execute_result"
    }
   ],
   "source": [
    "date_test - duree"
   ]
  },
  {
   "cell_type": "markdown",
   "id": "private-intake",
   "metadata": {},
   "source": [
    "Nous pouvons aussi faire des tests logiques sur ces dates"
   ]
  },
  {
   "cell_type": "code",
   "execution_count": 63,
   "id": "empty-constant",
   "metadata": {},
   "outputs": [
    {
     "data": {
      "text/plain": [
       "True"
      ]
     },
     "execution_count": 63,
     "metadata": {},
     "output_type": "execute_result"
    }
   ],
   "source": [
    "Date(jours=23, mois=12, annees=1992) < Date(jours=10, mois=12, annees=1998)"
   ]
  },
  {
   "cell_type": "code",
   "execution_count": 64,
   "id": "applied-index",
   "metadata": {},
   "outputs": [
    {
     "data": {
      "text/plain": [
       "False"
      ]
     },
     "execution_count": 64,
     "metadata": {},
     "output_type": "execute_result"
    }
   ],
   "source": [
    "Date(jours=23, mois=12, annees=1992) > Date(jours=23, mois=12, annees=1999)"
   ]
  },
  {
   "cell_type": "code",
   "execution_count": 65,
   "id": "nutritional-catholic",
   "metadata": {},
   "outputs": [
    {
     "data": {
      "text/plain": [
       "False"
      ]
     },
     "execution_count": 65,
     "metadata": {},
     "output_type": "execute_result"
    }
   ],
   "source": [
    "Date(jours=23, mois=12, annees=1992) == Date(jours=23, mois=12, annees=1998)"
   ]
  },
  {
   "cell_type": "markdown",
   "id": "dried-toolbox",
   "metadata": {},
   "source": [
    "Nous avons un constructeur alternatif pour cette classe."
   ]
  },
  {
   "cell_type": "code",
   "execution_count": 66,
   "id": "certified-wayne",
   "metadata": {},
   "outputs": [
    {
     "data": {
      "text/plain": [
       "Date(jours=23, mois=12, annees=1998)"
      ]
     },
     "execution_count": 66,
     "metadata": {},
     "output_type": "execute_result"
    }
   ],
   "source": [
    "Date.par_str(\"23/12/1998\")"
   ]
  },
  {
   "cell_type": "code",
   "execution_count": 67,
   "id": "desirable-tokyo",
   "metadata": {},
   "outputs": [
    {
     "data": {
      "text/plain": [
       "Date(jours=23, mois=12, annees=1998, heures=23, minutes=12, secondes=0)"
      ]
     },
     "execution_count": 67,
     "metadata": {},
     "output_type": "execute_result"
    }
   ],
   "source": [
    "Date.par_str(\"23/12/1998/23:12\")"
   ]
  },
  {
   "cell_type": "code",
   "execution_count": 68,
   "id": "diagnostic-marathon",
   "metadata": {},
   "outputs": [
    {
     "data": {
      "text/plain": [
       "Date(jours=23, mois=12, annees=1998, heures=23, minutes=12, secondes=9)"
      ]
     },
     "execution_count": 68,
     "metadata": {},
     "output_type": "execute_result"
    }
   ],
   "source": [
    "Date.par_str(\"23/12/1998/23:12:09\")"
   ]
  },
  {
   "cell_type": "markdown",
   "id": "featured-crawford",
   "metadata": {},
   "source": [
    "Une date peut-être construite sous certaines conditions :\n",
    "\n",
    "- Que la valeur de mois, jours, et annees soit égale ou supérieur à 1\n",
    "- Que le mois ne dépasse pas 12, que le jour dépasse pas 31\n",
    "- Que le numéro du jour existe dans le mois.\n",
    "- Que les secondes et minutes soient comprises entre 0 et 59.\n",
    "- Que les heures soit comprises entre 0 et 23."
   ]
  },
  {
   "cell_type": "markdown",
   "id": "retained-salvation",
   "metadata": {},
   "source": [
    "### L'objet Datation"
   ]
  },
  {
   "cell_type": "markdown",
   "id": "desirable-johnson",
   "metadata": {},
   "source": [
    "Elle représente une datation pour une tâche.\n",
    "Elle est composée :\n",
    "- D'un objet **Tache**\n",
    "- D'une date de debut\n",
    "- D'une date de fin\n",
    "\n",
    "Voici un exemple :"
   ]
  },
  {
   "cell_type": "code",
   "execution_count": 69,
   "id": "pleasant-charm",
   "metadata": {},
   "outputs": [],
   "source": [
    "resolution_en_cal=resous_Calendrier(mon_probleme, date_commencement=\"23/12/1998\")"
   ]
  },
  {
   "cell_type": "code",
   "execution_count": 70,
   "id": "inside-swiss",
   "metadata": {},
   "outputs": [
    {
     "data": {
      "text/html": [
       "<pre style=\"white-space:pre;overflow-x:auto;line-height:normal;font-family:Menlo,'DejaVu Sans Mono',consolas,'Courier New',monospace\">Datation<span style=\"font-weight: bold\">(</span><span style=\"color: #808000\">tache</span>=<span style=\"color: #800080\">Tache</span><span style=\"font-weight: bold\">(</span><span style=\"color: #808000\">nom</span>=<span style=\"color: #008000\">'A'</span>, <span style=\"color: #808000\">duree</span>=<span style=\"color: #800080\">Duree</span><span style=\"font-weight: bold\">(</span><span style=\"color: #808000\">semaines</span>=<span style=\"color: #000080; font-weight: bold\">1</span><span style=\"font-weight: bold\">)</span>, <span style=\"color: #808000\">prerequis</span>=<span style=\"font-weight: bold\">[]</span>, <span style=\"color: #808000\">correspondance</span>=<span style=\"color: #008000\">'Créer la</span>\n",
       "<span style=\"color: #008000\">librairie'</span><span style=\"font-weight: bold\">)</span>, <span style=\"color: #808000\">date_debut</span>=<span style=\"color: #800080\">Date</span><span style=\"font-weight: bold\">(</span><span style=\"color: #808000\">jours</span>=<span style=\"color: #000080; font-weight: bold\">23</span>, <span style=\"color: #808000\">mois</span>=<span style=\"color: #000080; font-weight: bold\">12</span>, <span style=\"color: #808000\">annees</span>=<span style=\"color: #000080; font-weight: bold\">1998</span><span style=\"font-weight: bold\">)</span>, <span style=\"color: #808000\">date_fin</span>=<span style=\"color: #800080\">Date</span><span style=\"font-weight: bold\">(</span><span style=\"color: #808000\">jours</span>=<span style=\"color: #000080; font-weight: bold\">30</span>, \n",
       "<span style=\"color: #808000\">mois</span>=<span style=\"color: #000080; font-weight: bold\">12</span>, <span style=\"color: #808000\">annees</span>=<span style=\"color: #000080; font-weight: bold\">1998</span><span style=\"font-weight: bold\">))</span>\n",
       "</pre>\n"
      ],
      "text/plain": [
       "<rich.jupyter.JupyterRenderable at 0x1da2474cc10>"
      ]
     },
     "metadata": {},
     "output_type": "display_data"
    }
   ],
   "source": [
    "print(resolution_en_cal[\"A\"])"
   ]
  },
  {
   "cell_type": "markdown",
   "id": "exotic-delicious",
   "metadata": {},
   "source": [
    "Elle est sensiblement identique à l'objet **Activite**."
   ]
  },
  {
   "cell_type": "markdown",
   "id": "occasional-livestock",
   "metadata": {},
   "source": [
    "Elle gère le fait :\n",
    "- Que la date de debut soit inférieure à la date de fin\n",
    "- Que la date de fin soit égale à la date de début plus la durée de la tâche"
   ]
  },
  {
   "cell_type": "markdown",
   "id": "departmental-buddy",
   "metadata": {},
   "source": [
    "### L'objet Calendrier\n",
    "Elle résulte de l'algorithme de résolution en date.\n",
    "\n",
    "Elle comprend une liste DE DATATIONS.\n",
    "\n",
    "Voici un exemple :"
   ]
  },
  {
   "cell_type": "code",
   "execution_count": 71,
   "id": "musical-garage",
   "metadata": {},
   "outputs": [
    {
     "data": {
      "text/html": [
       "<pre style=\"white-space:pre;overflow-x:auto;line-height:normal;font-family:Menlo,'DejaVu Sans Mono',consolas,'Courier New',monospace\">Calendrier<span style=\"font-weight: bold\">(</span><span style=\"color: #808000\">dates</span>=<span style=\"font-weight: bold\">[</span>Datation<span style=\"font-weight: bold\">(</span><span style=\"color: #808000\">tache</span>=<span style=\"color: #800080\">Tache</span><span style=\"font-weight: bold\">(</span><span style=\"color: #808000\">nom</span>=<span style=\"color: #008000\">'A'</span>, <span style=\"color: #808000\">duree</span>=<span style=\"color: #800080\">Duree</span><span style=\"font-weight: bold\">(</span><span style=\"color: #808000\">semaines</span>=<span style=\"color: #000080; font-weight: bold\">1</span><span style=\"font-weight: bold\">)</span>, <span style=\"color: #808000\">prerequis</span>=<span style=\"font-weight: bold\">[]</span>, \n",
       "<span style=\"color: #808000\">correspondance</span>=<span style=\"color: #008000\">'Créer la librairie'</span><span style=\"font-weight: bold\">)</span>, <span style=\"color: #808000\">date_debut</span>=<span style=\"color: #800080\">Date</span><span style=\"font-weight: bold\">(</span><span style=\"color: #808000\">jours</span>=<span style=\"color: #000080; font-weight: bold\">23</span>, <span style=\"color: #808000\">mois</span>=<span style=\"color: #000080; font-weight: bold\">12</span>, <span style=\"color: #808000\">annees</span>=<span style=\"color: #000080; font-weight: bold\">1998</span><span style=\"font-weight: bold\">)</span>, \n",
       "<span style=\"color: #808000\">date_fin</span>=<span style=\"color: #800080\">Date</span><span style=\"font-weight: bold\">(</span><span style=\"color: #808000\">jours</span>=<span style=\"color: #000080; font-weight: bold\">30</span>, <span style=\"color: #808000\">mois</span>=<span style=\"color: #000080; font-weight: bold\">12</span>, <span style=\"color: #808000\">annees</span>=<span style=\"color: #000080; font-weight: bold\">1998</span><span style=\"font-weight: bold\">))</span>, Datation<span style=\"font-weight: bold\">(</span><span style=\"color: #808000\">tache</span>=<span style=\"color: #800080\">Tache</span><span style=\"font-weight: bold\">(</span><span style=\"color: #808000\">nom</span>=<span style=\"color: #008000\">'B'</span>, \n",
       "<span style=\"color: #808000\">duree</span>=<span style=\"color: #800080\">Duree</span><span style=\"font-weight: bold\">(</span><span style=\"color: #808000\">heures</span>=<span style=\"color: #000080; font-weight: bold\">1</span><span style=\"font-weight: bold\">)</span>, <span style=\"color: #808000\">prerequis</span>=<span style=\"font-weight: bold\">[</span>Prerequis<span style=\"font-weight: bold\">(</span><span style=\"color: #808000\">nom</span>=<span style=\"color: #008000\">'A'</span>, <span style=\"color: #808000\">typ</span>=<span style=\"color: #008000\">'fin'</span>, <span style=\"color: #808000\">latence</span>=<span style=\"color: #800080\">Duree</span><span style=\"font-weight: bold\">(</span>Aucune \n",
       "durée<span style=\"font-weight: bold\">))]</span>, <span style=\"color: #808000\">correspondance</span>=<span style=\"color: #008000\">'Expliquer aux utilisateurs'</span><span style=\"font-weight: bold\">)</span>, <span style=\"color: #808000\">date_debut</span>=<span style=\"color: #800080\">Date</span><span style=\"font-weight: bold\">(</span><span style=\"color: #808000\">jours</span>=<span style=\"color: #000080; font-weight: bold\">30</span>, <span style=\"color: #808000\">mois</span>=<span style=\"color: #000080; font-weight: bold\">12</span>, \n",
       "<span style=\"color: #808000\">annees</span>=<span style=\"color: #000080; font-weight: bold\">1998</span><span style=\"font-weight: bold\">)</span>, <span style=\"color: #808000\">date_fin</span>=<span style=\"color: #800080\">Date</span><span style=\"font-weight: bold\">(</span><span style=\"color: #808000\">jours</span>=<span style=\"color: #000080; font-weight: bold\">30</span>, <span style=\"color: #808000\">mois</span>=<span style=\"color: #000080; font-weight: bold\">12</span>, <span style=\"color: #808000\">annees</span>=<span style=\"color: #000080; font-weight: bold\">1998</span>, <span style=\"color: #808000\">heures</span>=<span style=\"color: #000080; font-weight: bold\">1</span>, <span style=\"color: #808000\">minutes</span>=<span style=\"color: #000080; font-weight: bold\">0</span>, \n",
       "<span style=\"color: #808000\">secondes</span>=<span style=\"color: #000080; font-weight: bold\">0</span><span style=\"font-weight: bold\">))</span>, Datation<span style=\"font-weight: bold\">(</span><span style=\"color: #808000\">tache</span>=<span style=\"color: #800080\">Tache</span><span style=\"font-weight: bold\">(</span><span style=\"color: #808000\">nom</span>=<span style=\"color: #008000\">'C'</span>, <span style=\"color: #808000\">duree</span>=<span style=\"color: #800080\">Duree</span><span style=\"font-weight: bold\">(</span><span style=\"color: #808000\">secondes</span>=<span style=\"color: #000080; font-weight: bold\">34</span><span style=\"font-weight: bold\">)</span>, \n",
       "<span style=\"color: #808000\">prerequis</span>=<span style=\"font-weight: bold\">[</span>Prerequis<span style=\"font-weight: bold\">(</span><span style=\"color: #808000\">nom</span>=<span style=\"color: #008000\">'A'</span>, <span style=\"color: #808000\">typ</span>=<span style=\"color: #008000\">'fin'</span>, <span style=\"color: #808000\">latence</span>=<span style=\"color: #800080\">Duree</span><span style=\"font-weight: bold\">(</span><span style=\"color: #808000\">jours</span>=<span style=\"color: #000080; font-weight: bold\">3</span><span style=\"font-weight: bold\">))</span>, Prerequis<span style=\"font-weight: bold\">(</span><span style=\"color: #808000\">nom</span>=<span style=\"color: #008000\">'B'</span>, \n",
       "<span style=\"color: #808000\">typ</span>=<span style=\"color: #008000\">'debut'</span>, <span style=\"color: #808000\">latence</span>=<span style=\"color: #800080\">Duree</span><span style=\"font-weight: bold\">(</span><span style=\"color: #808000\">heures</span>=<span style=\"color: #000080; font-weight: bold\">2</span>, <span style=\"color: #808000\">minutes</span>=<span style=\"color: #000080; font-weight: bold\">56</span><span style=\"font-weight: bold\">))]</span>, <span style=\"color: #808000\">correspondance</span>=<span style=\"color: #008000\">'Mettre en ligne la </span>\n",
       "<span style=\"color: #008000\">librairie'</span><span style=\"font-weight: bold\">)</span>, <span style=\"color: #808000\">date_debut</span>=<span style=\"color: #800080\">Date</span><span style=\"font-weight: bold\">(</span><span style=\"color: #808000\">jours</span>=<span style=\"color: #000080; font-weight: bold\">2</span>, <span style=\"color: #808000\">mois</span>=<span style=\"color: #000080; font-weight: bold\">1</span>, <span style=\"color: #808000\">annees</span>=<span style=\"color: #000080; font-weight: bold\">1999</span><span style=\"font-weight: bold\">)</span>, <span style=\"color: #808000\">date_fin</span>=<span style=\"color: #800080\">Date</span><span style=\"font-weight: bold\">(</span><span style=\"color: #808000\">jours</span>=<span style=\"color: #000080; font-weight: bold\">2</span>, <span style=\"color: #808000\">mois</span>=<span style=\"color: #000080; font-weight: bold\">1</span>, \n",
       "<span style=\"color: #808000\">annees</span>=<span style=\"color: #000080; font-weight: bold\">1999</span>, <span style=\"color: #808000\">heures</span>=<span style=\"color: #000080; font-weight: bold\">0</span>, <span style=\"color: #808000\">minutes</span>=<span style=\"color: #000080; font-weight: bold\">0</span>, <span style=\"color: #808000\">secondes</span>=<span style=\"color: #000080; font-weight: bold\">34</span><span style=\"font-weight: bold\">))])</span>\n",
       "</pre>\n"
      ],
      "text/plain": [
       "<rich.jupyter.JupyterRenderable at 0x1da2475f2e0>"
      ]
     },
     "metadata": {},
     "output_type": "display_data"
    }
   ],
   "source": [
    "print(resolution_en_cal)"
   ]
  },
  {
   "cell_type": "markdown",
   "id": "flexible-drink",
   "metadata": {},
   "source": [
    "L'affichage peut-être un peu lourd. Pour palier à cela, nous pouvons afficher le calendrier en mode tableau."
   ]
  },
  {
   "cell_type": "code",
   "execution_count": 72,
   "id": "specific-belize",
   "metadata": {},
   "outputs": [
    {
     "data": {
      "text/html": [
       "<pre style=\"white-space:pre;overflow-x:auto;line-height:normal;font-family:Menlo,'DejaVu Sans Mono',consolas,'Courier New',monospace\"><span style=\"font-style: italic\">                              Solution du problème : calendrier                              </span>\n",
       "┏━━━━━━━┳━━━━━━━━━━━━━━━━━━━━━━━━━━━━━━━━━━━━━━━━━┳━━━━━━━━━━━━━━━━━━━━━━━━━━━━━━━━━━━━━━━━━┓\n",
       "┃<span style=\"font-weight: bold\"> Tâche </span>┃<span style=\"font-weight: bold\"> Début                                   </span>┃<span style=\"font-weight: bold\"> Fin                                     </span>┃\n",
       "┡━━━━━━━╇━━━━━━━━━━━━━━━━━━━━━━━━━━━━━━━━━━━━━━━━━╇━━━━━━━━━━━━━━━━━━━━━━━━━━━━━━━━━━━━━━━━━┩\n",
       "│ A     │ 23 décembre 1998 à 00h00 et 00 secondes │ 30 décembre 1998 à 00h00 et 00 secondes │\n",
       "│ B     │ 30 décembre 1998 à 00h00 et 00 secondes │ 30 décembre 1998 à 01h00 et 00 secondes │\n",
       "│ C     │ 2 janvier 1999 à 00h00 et 00 secondes   │ 2 janvier 1999 à 00h00 et 34 secondes   │\n",
       "└───────┴─────────────────────────────────────────┴─────────────────────────────────────────┘\n",
       "</pre>\n"
      ],
      "text/plain": [
       "<rich.jupyter.JupyterRenderable at 0x1da247595e0>"
      ]
     },
     "metadata": {},
     "output_type": "display_data"
    }
   ],
   "source": [
    "resolution_en_cal.affiche()"
   ]
  },
  {
   "cell_type": "markdown",
   "id": "polished-coach",
   "metadata": {},
   "source": [
    "Nous pouvons rajouter l'argument `entier=True` pour pouvoir afficher les correspondances."
   ]
  },
  {
   "cell_type": "code",
   "execution_count": 73,
   "id": "grave-frequency",
   "metadata": {},
   "outputs": [
    {
     "data": {
      "text/html": [
       "<pre style=\"white-space:pre;overflow-x:auto;line-height:normal;font-family:Menlo,'DejaVu Sans Mono',consolas,'Courier New',monospace\"><span style=\"font-style: italic\">                              Solution du problème : calendrier                              </span>\n",
       "┏━━━━━━━┳━━━━━━━━━━━━━━━━━━━━━━━━━━━┳━━━━━━━━━━━━━━━━━━━━━━━━━━━┳━━━━━━━━━━━━━━━━━━━━━━━━━━━┓\n",
       "┃<span style=\"font-weight: bold\"> Tâche </span>┃<span style=\"font-weight: bold\"> Nature                    </span>┃<span style=\"font-weight: bold\"> Début                     </span>┃<span style=\"font-weight: bold\"> Fin                       </span>┃\n",
       "┡━━━━━━━╇━━━━━━━━━━━━━━━━━━━━━━━━━━━╇━━━━━━━━━━━━━━━━━━━━━━━━━━━╇━━━━━━━━━━━━━━━━━━━━━━━━━━━┩\n",
       "│ A     │ Créer la librairie        │ 23 décembre 1998 à 00h00  │ 30 décembre 1998 à 00h00  │\n",
       "│       │                           │ et 00 secondes            │ et 00 secondes            │\n",
       "│ B     │ Expliquer aux             │ 30 décembre 1998 à 00h00  │ 30 décembre 1998 à 01h00  │\n",
       "│       │ utilisateurs              │ et 00 secondes            │ et 00 secondes            │\n",
       "│ C     │ Mettre en ligne la        │ 2 janvier 1999 à 00h00 et │ 2 janvier 1999 à 00h00 et │\n",
       "│       │ librairie                 │ 00 secondes               │ 34 secondes               │\n",
       "└───────┴───────────────────────────┴───────────────────────────┴───────────────────────────┘\n",
       "</pre>\n"
      ],
      "text/plain": [
       "<rich.jupyter.JupyterRenderable at 0x1da2475f820>"
      ]
     },
     "metadata": {},
     "output_type": "display_data"
    }
   ],
   "source": [
    "resolution_en_cal.affiche(entier=True)"
   ]
  },
  {
   "cell_type": "markdown",
   "id": "altered-insulin",
   "metadata": {},
   "source": [
    "Cette affichage gére de manière intelligente les dates. En effet, si nous avons aucune date comprenant des heures, minutes ou secondes, il n'affichera que la date. \n",
    "Au contraire si nous avons des dates comprenant seulement des heures et minutes, il affichera que la date avec l'heure sans les secondes. Et enfin, si une date contient des secondes, il affichera la totalité de la date."
   ]
  },
  {
   "cell_type": "markdown",
   "id": "spanish-outdoors",
   "metadata": {},
   "source": [
    "Nous pouvons rajouter à postériori des activités."
   ]
  },
  {
   "cell_type": "code",
   "execution_count": 74,
   "id": "proprietary-article",
   "metadata": {},
   "outputs": [],
   "source": [
    "calendrier_test=Calendrier(dates=[])"
   ]
  },
  {
   "cell_type": "code",
   "execution_count": 75,
   "id": "increasing-cruise",
   "metadata": {},
   "outputs": [],
   "source": [
    "calendrier_test.ajoute(resolution_en_cal[\"A\"])"
   ]
  },
  {
   "cell_type": "code",
   "execution_count": 76,
   "id": "designing-kelly",
   "metadata": {},
   "outputs": [
    {
     "data": {
      "text/html": [
       "<pre style=\"white-space:pre;overflow-x:auto;line-height:normal;font-family:Menlo,'DejaVu Sans Mono',consolas,'Courier New',monospace\">Calendrier<span style=\"font-weight: bold\">(</span><span style=\"color: #808000\">dates</span>=<span style=\"font-weight: bold\">[</span>Datation<span style=\"font-weight: bold\">(</span><span style=\"color: #808000\">tache</span>=<span style=\"color: #800080\">Tache</span><span style=\"font-weight: bold\">(</span><span style=\"color: #808000\">nom</span>=<span style=\"color: #008000\">'A'</span>, <span style=\"color: #808000\">duree</span>=<span style=\"color: #800080\">Duree</span><span style=\"font-weight: bold\">(</span><span style=\"color: #808000\">semaines</span>=<span style=\"color: #000080; font-weight: bold\">1</span><span style=\"font-weight: bold\">)</span>, <span style=\"color: #808000\">prerequis</span>=<span style=\"font-weight: bold\">[]</span>, \n",
       "<span style=\"color: #808000\">correspondance</span>=<span style=\"color: #008000\">'Créer la librairie'</span><span style=\"font-weight: bold\">)</span>, <span style=\"color: #808000\">date_debut</span>=<span style=\"color: #800080\">Date</span><span style=\"font-weight: bold\">(</span><span style=\"color: #808000\">jours</span>=<span style=\"color: #000080; font-weight: bold\">23</span>, <span style=\"color: #808000\">mois</span>=<span style=\"color: #000080; font-weight: bold\">12</span>, <span style=\"color: #808000\">annees</span>=<span style=\"color: #000080; font-weight: bold\">1998</span><span style=\"font-weight: bold\">)</span>, \n",
       "<span style=\"color: #808000\">date_fin</span>=<span style=\"color: #800080\">Date</span><span style=\"font-weight: bold\">(</span><span style=\"color: #808000\">jours</span>=<span style=\"color: #000080; font-weight: bold\">30</span>, <span style=\"color: #808000\">mois</span>=<span style=\"color: #000080; font-weight: bold\">12</span>, <span style=\"color: #808000\">annees</span>=<span style=\"color: #000080; font-weight: bold\">1998</span><span style=\"font-weight: bold\">))])</span>\n",
       "</pre>\n"
      ],
      "text/plain": [
       "<rich.jupyter.JupyterRenderable at 0x1da241ffa00>"
      ]
     },
     "metadata": {},
     "output_type": "display_data"
    }
   ],
   "source": [
    "print(calendrier_test)"
   ]
  },
  {
   "cell_type": "code",
   "execution_count": 77,
   "id": "minor-survival",
   "metadata": {},
   "outputs": [],
   "source": [
    "calendrier_test.ajoute(resolution_en_cal[\"B\"])\n",
    "calendrier_test.ajoute(resolution_en_cal[\"C\"])"
   ]
  },
  {
   "cell_type": "code",
   "execution_count": 78,
   "id": "overall-pencil",
   "metadata": {},
   "outputs": [
    {
     "data": {
      "text/plain": [
       "True"
      ]
     },
     "execution_count": 78,
     "metadata": {},
     "output_type": "execute_result"
    }
   ],
   "source": [
    "calendrier_test==resolution_en_cal"
   ]
  },
  {
   "cell_type": "markdown",
   "id": "constitutional-spotlight",
   "metadata": {},
   "source": [
    "Nous pouvons vérifier si le calendrier est valide. C'est à dire s'il respecte les contraintes :\n",
    "- la date de fin doit être supérieure à la date de debut\n",
    "- la date de fin doit-être égal à la date de debut plus la durée de la tâche."
   ]
  },
  {
   "cell_type": "code",
   "execution_count": 79,
   "id": "sticky-nutrition",
   "metadata": {},
   "outputs": [
    {
     "data": {
      "text/plain": [
       "True"
      ]
     },
     "execution_count": 79,
     "metadata": {},
     "output_type": "execute_result"
    }
   ],
   "source": [
    "calendrier_test.est_valide()"
   ]
  },
  {
   "cell_type": "markdown",
   "id": "human-liberal",
   "metadata": {},
   "source": [
    "**A affiner** :\n",
    "Nous pouvons aussi avoir une visualisation de notre calendrier."
   ]
  },
  {
   "cell_type": "code",
   "execution_count": 80,
   "id": "proud-gauge",
   "metadata": {},
   "outputs": [
    {
     "data": {
      "text/plain": [
       "<AxesSubplot:title={'center':\"Solution du problème d'ordonnancement\"}, xlabel='Dates', ylabel='Tâches'>"
      ]
     },
     "execution_count": 80,
     "metadata": {},
     "output_type": "execute_result"
    },
    {
     "data": {
      "image/png": "[encoded data removed]",
      "text/plain": [
       "<Figure size 1080x360 with 1 Axes>"
      ]
     },
     "metadata": {
      "needs_background": "light"
     },
     "output_type": "display_data"
    }
   ],
   "source": [
    "calendrier_test.genere_graphique()"
   ]
  },
  {
   "cell_type": "markdown",
   "id": "integrated-excess",
   "metadata": {},
   "source": [
    "## Points à améliorer et faiblesses\n",
    "\n",
    "Lorsque nous rajoutons une durée quotidienne d'éxécution de tâche ou lorsque nous rajoutons des jours hebdomadaire de repos, nous perdons en précisions. Il serait important d'étailler ce problème.\n",
    "\n",
    "Il serait aussi pertinent de rajouter plusieurs durées quotidiennes d'éxécution de tâche.\n",
    "\n",
    "Nous pourrions aussi rajouter, à l'algorithme de résolution, des dates pour lesquelles l'éxécution de tâche est impossible. Je pense entre autre aux jours fériées. \n",
    "\n",
    "Un developpement complet des objet Duree et Date pour pouvoir fournir un spectre plus large d'utilisation de ces classes. \n",
    "\n",
    "Je n'ai notamment pas réussi à itérer sur les instances des objets Date et Duree. \n",
    "\n",
    "Un code plus clair et plus efficaces. En effet, je trouve que mon code est un peu trop primitif et pas assez explicite. \n",
    "\n",
    "Développement d'un app.py"
   ]
  },
  {
   "cell_type": "markdown",
   "id": "middle-civilization",
   "metadata": {},
   "source": [
    "# Résolution d'un probléme général \n",
    "\n",
    "Nous allons résoudre un problème d'ordonnancement pour le montage d'un film.\n",
    "\n",
    "Un producteur de cinéma est confronté au problème du planning de son prochain film et vous soumet les tâches qui doivent être effectuées :\n",
    "\n",
    "|Tâche | Nature                    | Durée (Jours)| Prérequis (au plus tôt)|\n",
    "|------|---------------------------|--------------|------------------------|\n",
    "|  A   | Ecriture du scénario      | 30           | -                      |\n",
    "|  B   | Casting                   | 12           | fin A + 15j            |\n",
    "|  C   | Choix du lieu de tournage | 8            | fin A + 20j            |\n",
    "|  D   | Découpage technique       | 4            | A et C finies          |\n",
    "|  E   | Décors                    | 7            | C et D finies          |\n",
    "|  F   | Tournages extérieurs      | 10           | A,B,C et D finies      |\n",
    "|  G   | Tournages intérieurs      | 12           | D, E et F finies       |\n",
    "|  H   | Synchronisation           | 3            | F et G finies          |\n",
    "|  I   | Montage                   | 14           | H finie                |\n",
    "|  J   | Son                       | 7            | debut I + 3j et fin H  |\n",
    "|  K   | Mixage                    | 6            | I et J finies          |\n",
    "|  L   | Tirage                    | 1            | fin K + 2j             |\n",
    "\n",
    "Proposer un planning optimal au  producteur."
   ]
  },
  {
   "cell_type": "code",
   "execution_count": 81,
   "id": "martial-interim",
   "metadata": {},
   "outputs": [],
   "source": [
    "probleme_general=Probleme.par_str(\"\"\"\n",
    "A / 30 jours // Ecriture du scénario\n",
    "B / 12 jours / A fin (15 jours) / Casting\n",
    "C / 8 jours / A fin (20 jours) / Choix du lieu de tournage\n",
    "D / 4 jours / A fin | C fin / Découpage technique\n",
    "E / 7 jours / C fin | D fin / Décors\n",
    "F / 10 jours / A fin | B fin | C fin | D fin / Tournages extérieurs\n",
    "G / 12 jours / D fin | E fin | F fin / Tournages intérieurs\n",
    "H / 3 jours / F fin | G fin / Synchronisation\n",
    "I / 14 jours / H fin / Montage\n",
    "J / 7 jours / I debut (3 jours) | H fin / Son\n",
    "K / 6 jours / I fin | J fin / Mixage\n",
    "L / 1 jour / K fin (2 jours) /Tirage\n",
    "\"\"\")"
   ]
  },
  {
   "cell_type": "code",
   "execution_count": 82,
   "id": "worth-cradle",
   "metadata": {},
   "outputs": [
    {
     "data": {
      "text/html": [
       "<pre style=\"white-space:pre;overflow-x:auto;line-height:normal;font-family:Menlo,'DejaVu Sans Mono',consolas,'Courier New',monospace\"><span style=\"font-style: italic\">                                  Problème d'ordonnancement                                  </span>\n",
       "┏━━━━━━━┳━━━━━━━━━━━━━━━━━━━━━━━━━━━┳━━━━━━━━━━━━━━━━━━━━┳━━━━━━━━━━━━━━━━━━━━━━━━━━━━━━━━━━┓\n",
       "┃<span style=\"font-weight: bold\"> Tâche </span>┃<span style=\"font-weight: bold\"> Nature                    </span>┃<span style=\"font-weight: bold\"> Durée              </span>┃<span style=\"font-weight: bold\"> Prérequis                        </span>┃\n",
       "┡━━━━━━━╇━━━━━━━━━━━━━━━━━━━━━━━━━━━╇━━━━━━━━━━━━━━━━━━━━╇━━━━━━━━━━━━━━━━━━━━━━━━━━━━━━━━━━┩\n",
       "│ A     │ Ecriture du scénario      │ 4 semaines 2 jours │                                  │\n",
       "│ B     │ Casting                   │ 1 semaine 5 jours  │ fin de A + 2 semaines 1 jour     │\n",
       "│ C     │ Choix du lieu de tournage │ 1 semaine 1 jour   │ fin de A + 2 semaines 6 jours    │\n",
       "│ D     │ Découpage technique       │ 4 jours            │ fin de A et fin de C             │\n",
       "│ E     │ Décors                    │ 1 semaine          │ fin de C et fin de D             │\n",
       "│ F     │ Tournages extérieurs      │ 1 semaine 3 jours  │ fin de A, fin de B, fin de C et  │\n",
       "│       │                           │                    │ fin de D                         │\n",
       "│ G     │ Tournages intérieurs      │ 1 semaine 5 jours  │ fin de D, fin de E et fin de F   │\n",
       "│ H     │ Synchronisation           │ 3 jours            │ fin de F et fin de G             │\n",
       "│ I     │ Montage                   │ 2 semaines         │ fin de H                         │\n",
       "│ J     │ Son                       │ 1 semaine          │ debut de I + 3 jours et fin de H │\n",
       "│ K     │ Mixage                    │ 6 jours            │ fin de I et fin de J             │\n",
       "│ L     │ Tirage                    │ 1 jour             │ fin de K + 2 jours               │\n",
       "└───────┴───────────────────────────┴────────────────────┴──────────────────────────────────┘\n",
       "</pre>\n"
      ],
      "text/plain": [
       "<rich.jupyter.JupyterRenderable at 0x1da2425fd30>"
      ]
     },
     "metadata": {},
     "output_type": "display_data"
    }
   ],
   "source": [
    "probleme_general.affiche_probleme(entier=True)"
   ]
  },
  {
   "cell_type": "markdown",
   "id": "biological-insulin",
   "metadata": {},
   "source": [
    "## Resolution en durée"
   ]
  },
  {
   "cell_type": "code",
   "execution_count": 83,
   "id": "common-cabin",
   "metadata": {},
   "outputs": [
    {
     "data": {
      "text/html": [
       "<pre style=\"white-space:pre;overflow-x:auto;line-height:normal;font-family:Menlo,'DejaVu Sans Mono',consolas,'Courier New',monospace\"><span style=\"font-style: italic\">            Solution du problème : emploi du temps             </span>\n",
       "┏━━━━━━━┳━━━━━━━━━━━━━━━━━━━━━━━━━━━┳━━━━━━━━━━━━┳━━━━━━━━━━━━┓\n",
       "┃<span style=\"font-weight: bold\"> Tâche </span>┃<span style=\"font-weight: bold\"> Nature                    </span>┃<span style=\"font-weight: bold\"> Début      </span>┃<span style=\"font-weight: bold\"> Fin        </span>┃\n",
       "┡━━━━━━━╇━━━━━━━━━━━━━━━━━━━━━━━━━━━╇━━━━━━━━━━━━╇━━━━━━━━━━━━┩\n",
       "│ A     │ Ecriture du scénario      │ 0          │ 30 jours   │\n",
       "│ C     │ Choix du lieu de tournage │ 50 jours   │ 58 jours   │\n",
       "│ D     │ Découpage technique       │ 58 jours   │ 62 jours   │\n",
       "│ E     │ Décors                    │ 62 jours   │ 69 jours   │\n",
       "│ B     │ Casting                   │ 45 jours   │ 57 jours   │\n",
       "│ F     │ Tournages extérieurs      │ 62 jours   │ 72 jours   │\n",
       "│ G     │ Tournages intérieurs      │ 72 jours   │ 84 jours   │\n",
       "│ H     │ Synchronisation           │ 84 jours   │ 87 jours   │\n",
       "│ I     │ Montage                   │ 87 jours   │ 101 jours  │\n",
       "│ J     │ Son                       │ 90 jours   │ 97 jours   │\n",
       "│ K     │ Mixage                    │ 101 jours  │ 107 jours  │\n",
       "│ L     │ Tirage                    │ 109 jours  │ 110 jours  │\n",
       "└───────┴───────────────────────────┴────────────┴────────────┘\n",
       "</pre>\n"
      ],
      "text/plain": [
       "<rich.jupyter.JupyterRenderable at 0x1da24263cd0>"
      ]
     },
     "metadata": {},
     "output_type": "display_data"
    }
   ],
   "source": [
    "resolution=resous_EDT(probleme_general)\n",
    "resolution.affiche(entier=True, brute=True)"
   ]
  },
  {
   "cell_type": "code",
   "execution_count": 84,
   "id": "common-slovak",
   "metadata": {},
   "outputs": [
    {
     "data": {
      "image/png": "[encoded data removed]",
      "text/plain": [
       "<Figure size 1080x360 with 1 Axes>"
      ]
     },
     "metadata": {
      "needs_background": "light"
     },
     "output_type": "display_data"
    }
   ],
   "source": [
    "resolution.genere_graphique()"
   ]
  },
  {
   "cell_type": "markdown",
   "id": "domestic-spokesman",
   "metadata": {},
   "source": [
    "## Resolution en date"
   ]
  },
  {
   "cell_type": "code",
   "execution_count": 85,
   "id": "touched-rainbow",
   "metadata": {},
   "outputs": [
    {
     "data": {
      "text/html": [
       "<pre style=\"white-space:pre;overflow-x:auto;line-height:normal;font-family:Menlo,'DejaVu Sans Mono',consolas,'Courier New',monospace\"><span style=\"font-style: italic\">                    Solution du problème : calendrier                    </span>\n",
       "┏━━━━━━━┳━━━━━━━━━━━━━━━━━━━━━━━━━━━┳━━━━━━━━━━━━━━━━━┳━━━━━━━━━━━━━━━━━┓\n",
       "┃<span style=\"font-weight: bold\"> Tâche </span>┃<span style=\"font-weight: bold\"> Nature                    </span>┃<span style=\"font-weight: bold\"> Début           </span>┃<span style=\"font-weight: bold\"> Fin             </span>┃\n",
       "┡━━━━━━━╇━━━━━━━━━━━━━━━━━━━━━━━━━━━╇━━━━━━━━━━━━━━━━━╇━━━━━━━━━━━━━━━━━┩\n",
       "│ A     │ Ecriture du scénario      │ 9 avril 2021    │ 23 mai 2021     │\n",
       "│ C     │ Choix du lieu de tournage │ 12 juin 2021    │ 24 juin 2021    │\n",
       "│ D     │ Découpage technique       │ 24 juin 2021    │ 28 juin 2021    │\n",
       "│ E     │ Décors                    │ 28 juin 2021    │ 8 juillet 2021  │\n",
       "│ B     │ Casting                   │ 7 juin 2021     │ 24 juin 2021    │\n",
       "│ F     │ Tournages extérieurs      │ 28 juin 2021    │ 12 juillet 2021 │\n",
       "│ G     │ Tournages intérieurs      │ 12 juillet 2021 │ 29 juillet 2021 │\n",
       "│ H     │ Synchronisation           │ 29 juillet 2021 │ 1 août 2021     │\n",
       "│ I     │ Montage                   │ 1 août 2021     │ 19 août 2021    │\n",
       "│ J     │ Son                       │ 5 août 2021     │ 13 août 2021    │\n",
       "│ K     │ Mixage                    │ 19 août 2021    │ 27 août 2021    │\n",
       "│ L     │ Tirage                    │ 29 août 2021    │ 30 août 2021    │\n",
       "└───────┴───────────────────────────┴─────────────────┴─────────────────┘\n",
       "</pre>\n"
      ],
      "text/plain": [
       "<rich.jupyter.JupyterRenderable at 0x1da24263040>"
      ]
     },
     "metadata": {},
     "output_type": "display_data"
    }
   ],
   "source": [
    "resolution=resous_Calendrier(probleme_general, date_commencement=\"09/04/2021\", jours_repos=\"Mardi Mercredi\")\n",
    "resolution.affiche(entier=True)"
   ]
  },
  {
   "cell_type": "code",
   "execution_count": 86,
   "id": "damaged-reynolds",
   "metadata": {},
   "outputs": [
    {
     "data": {
      "text/plain": [
       "<AxesSubplot:title={'center':\"Solution du problème d'ordonnancement\"}, xlabel='Dates', ylabel='Tâches'>"
      ]
     },
     "execution_count": 86,
     "metadata": {},
     "output_type": "execute_result"
    },
    {
     "data": {
      "image/png": "[encoded data removed]",
      "text/plain": [
       "<Figure size 1080x360 with 1 Axes>"
      ]
     },
     "metadata": {
      "needs_background": "light"
     },
     "output_type": "display_data"
    }
   ],
   "source": [
    "resolution.genere_graphique() "
   ]
  },
  {
   "cell_type": "code",
   "execution_count": null,
   "id": "indirect-automation",
   "metadata": {},
   "outputs": [],
   "source": []
  },
  {
   "cell_type": "markdown",
   "id": "union-aging",
   "metadata": {},
   "source": [
    "## GUI"
   ]
  },
  {
   "cell_type": "markdown",
   "id": "classical-albuquerque",
   "metadata": {},
   "source": [
    "Voici l'application interface utilisateur."
   ]
  },
  {
   "cell_type": "code",
   "execution_count": 87,
   "id": "copyrighted-admission",
   "metadata": {},
   "outputs": [],
   "source": [
    "from app import Application"
   ]
  },
  {
   "cell_type": "code",
   "execution_count": 88,
   "id": "massive-deficit",
   "metadata": {},
   "outputs": [],
   "source": [
    "mon_application = Application()"
   ]
  },
  {
   "cell_type": "code",
   "execution_count": 89,
   "id": "weekly-essay",
   "metadata": {},
   "outputs": [
    {
     "data": {
      "application/vnd.jupyter.widget-view+json": {
       "model_id": "4cc7acd103334f2eb14c3dadee43ad74",
       "version_major": 2,
       "version_minor": 0
      },
      "text/plain": [
       "HBox(children=(VBox(children=(RadioButtons(description='Type de résolution:', options=('EDT', 'Calendrier'), v…"
      ]
     },
     "metadata": {},
     "output_type": "display_data"
    },
    {
     "data": {
      "application/vnd.jupyter.widget-view+json": {
       "model_id": "3d6aeaf55dc64fb6b5584dc4afb94456",
       "version_major": 2,
       "version_minor": 0
      },
      "text/plain": [
       "Output()"
      ]
     },
     "metadata": {},
     "output_type": "display_data"
    }
   ],
   "source": [
    "mon_application.affichage()"
   ]
  },
  {
   "cell_type": "markdown",
   "id": "curious-labor",
   "metadata": {},
   "source": [
    "## pytest-cov"
   ]
  },
  {
   "cell_type": "markdown",
   "id": "banner-serve",
   "metadata": {},
   "source": [
    "Voici l'état de couverture de mes tests."
   ]
  },
  {
   "cell_type": "code",
   "execution_count": 90,
   "id": "forbidden-little",
   "metadata": {},
   "outputs": [
    {
     "data": {
      "text/html": [
       "<pre style=\"white-space:pre;overflow-x:auto;line-height:normal;font-family:Menlo,'DejaVu Sans Mono',consolas,'Courier New',monospace\">----------- coverage: platform win32, python <span style=\"color: #000080; font-weight: bold\">3.8</span>.<span style=\"color: #000080; font-weight: bold\">5</span>-final-<span style=\"color: #000080; font-weight: bold\">0</span> -----------\n",
       "Name                           Stmts   Miss  Cover\n",
       "--------------------------------------------------\n",
       "ordonnancement\\__init__.py         <span style=\"color: #000080; font-weight: bold\">6</span>      <span style=\"color: #000080; font-weight: bold\">0</span>   <span style=\"color: #000080; font-weight: bold\">100</span>%\n",
       "ordonnancement\u0007lgorithme.py     <span style=\"color: #000080; font-weight: bold\">162</span>     <span style=\"color: #000080; font-weight: bold\">39</span>    <span style=\"color: #000080; font-weight: bold\">76</span>%\n",
       "ordonnancement\\calendrier.py     <span style=\"color: #000080; font-weight: bold\">243</span>     <span style=\"color: #000080; font-weight: bold\">62</span>    <span style=\"color: #000080; font-weight: bold\">74</span>%\n",
       "ordonnancement\\edt.py             <span style=\"color: #000080; font-weight: bold\">83</span>     <span style=\"color: #000080; font-weight: bold\">35</span>    <span style=\"color: #000080; font-weight: bold\">58</span>%\n",
       "ordonnancement\\probleme.py       <span style=\"color: #000080; font-weight: bold\">324</span>     <span style=\"color: #000080; font-weight: bold\">94</span>    <span style=\"color: #000080; font-weight: bold\">71</span>%\n",
       "test_algorithme.py                <span style=\"color: #000080; font-weight: bold\">74</span>      <span style=\"color: #000080; font-weight: bold\">9</span>    <span style=\"color: #000080; font-weight: bold\">88</span>%\n",
       "test_calendrier.py               <span style=\"color: #000080; font-weight: bold\">201</span>      <span style=\"color: #000080; font-weight: bold\">9</span>    <span style=\"color: #000080; font-weight: bold\">96</span>%\n",
       "test_edt.py                       <span style=\"color: #000080; font-weight: bold\">56</span>      <span style=\"color: #000080; font-weight: bold\">2</span>    <span style=\"color: #000080; font-weight: bold\">96</span>%\n",
       "test_probleme.py                 <span style=\"color: #000080; font-weight: bold\">134</span>      <span style=\"color: #000080; font-weight: bold\">6</span>    <span style=\"color: #000080; font-weight: bold\">96</span>%\n",
       "--------------------------------------------------\n",
       "TOTAL                           <span style=\"color: #000080; font-weight: bold\">1283</span>    <span style=\"color: #000080; font-weight: bold\">256</span>    <span style=\"color: #000080; font-weight: bold\">80</span>%\n",
       "</pre>\n"
      ],
      "text/plain": [
       "<rich.jupyter.JupyterRenderable at 0x1da24276070>"
      ]
     },
     "metadata": {},
     "output_type": "display_data"
    }
   ],
   "source": [
    "message=\"\"\"----------- coverage: platform win32, python 3.8.5-final-0 -----------\n",
    "Name                           Stmts   Miss  Cover\n",
    "--------------------------------------------------\n",
    "ordonnancement\\__init__.py         6      0   100%\n",
    "ordonnancement\\algorithme.py     162     39    76%\n",
    "ordonnancement\\calendrier.py     243     62    74%\n",
    "ordonnancement\\edt.py             83     35    58%\n",
    "ordonnancement\\probleme.py       324     94    71%\n",
    "test_algorithme.py                74      9    88%\n",
    "test_calendrier.py               201      9    96%\n",
    "test_edt.py                       56      2    96%\n",
    "test_probleme.py                 134      6    96%\n",
    "--------------------------------------------------\n",
    "TOTAL                           1283    256    80%\"\"\"\n",
    "print(message)"
   ]
  },
  {
   "cell_type": "markdown",
   "id": "otherwise-wyoming",
   "metadata": {},
   "source": [
    "## Format du code"
   ]
  },
  {
   "cell_type": "markdown",
   "id": "vocational-purple",
   "metadata": {},
   "source": [
    "Nous avons formater notre code en standard industriel grâce au package **Black**"
   ]
  },
  {
   "cell_type": "code",
   "execution_count": null,
   "id": "infrared-keyboard",
   "metadata": {},
   "outputs": [],
   "source": []
  }
 ],
 "metadata": {
  "kernelspec": {
   "display_name": "Python 3",
   "language": "python",
   "name": "python3"
  },
  "language_info": {
   "codemirror_mode": {
    "name": "ipython",
    "version": 3
   },
   "file_extension": ".py",
   "mimetype": "text/x-python",
   "name": "python",
   "nbconvert_exporter": "python",
   "pygments_lexer": "ipython3",
   "version": "3.8.5"
  }
 },
 "nbformat": 4,
 "nbformat_minor": 5
}
